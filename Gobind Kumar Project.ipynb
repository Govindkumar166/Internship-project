{
 "cells": [
  {
   "cell_type": "markdown",
   "id": "8482eabd",
   "metadata": {},
   "source": [
    "# Telemarketing Campaign Prediction\n",
    "### Data Description\n",
    "The dataset used is the traditional dataset gives the information about bank marketing compaign.In order to increase its overall revenue, the bank conducts various marketing campaigns for its financial products such as credit cards, term deposits, loans, etc.\n",
    "\n",
    "The dataset contains both numerical and categorical attributes. Total number of attributes are Seventeen. \n",
    "\n",
    "### Objective: \n",
    "The task is to predict for customers who were contacted during the current campaign, whether they will buy car insurance or not.\n",
    "To create a classification filter (Using Logistics Regression & KNN Classification Algorithm) to determine Churn from Telecom dataset. Compare the performance of the filters.\n",
    "#### Dataset: \n",
    "Source(https://www.kaggle.com/gauravduttakiit/bank-telemarketing-campaign-case\n",
    "\n"
   ]
  },
  {
   "cell_type": "code",
   "execution_count": 2,
   "id": "680e5669",
   "metadata": {},
   "outputs": [],
   "source": [
    "import pandas as pd\n",
    "import numpy as np\n",
    "import matplotlib.pyplot as plt\n",
    "import seaborn as sns "
   ]
  },
  {
   "cell_type": "code",
   "execution_count": 3,
   "id": "bf644b95",
   "metadata": {},
   "outputs": [],
   "source": [
    "# Reading the dataset\n",
    "df=pd.read_excel('bank_marketing.xls')"
   ]
  },
  {
   "cell_type": "code",
   "execution_count": 4,
   "id": "c2ec38bb",
   "metadata": {},
   "outputs": [
    {
     "data": {
      "text/html": [
       "<div>\n",
       "<style scoped>\n",
       "    .dataframe tbody tr th:only-of-type {\n",
       "        vertical-align: middle;\n",
       "    }\n",
       "\n",
       "    .dataframe tbody tr th {\n",
       "        vertical-align: top;\n",
       "    }\n",
       "\n",
       "    .dataframe thead th {\n",
       "        text-align: right;\n",
       "    }\n",
       "</style>\n",
       "<table border=\"1\" class=\"dataframe\">\n",
       "  <thead>\n",
       "    <tr style=\"text-align: right;\">\n",
       "      <th></th>\n",
       "      <th>customerid</th>\n",
       "      <th>age</th>\n",
       "      <th>salary</th>\n",
       "      <th>balance</th>\n",
       "      <th>marital</th>\n",
       "      <th>job</th>\n",
       "      <th>edu</th>\n",
       "      <th>default</th>\n",
       "      <th>housing</th>\n",
       "      <th>loan</th>\n",
       "      <th>contact</th>\n",
       "      <th>day</th>\n",
       "      <th>month</th>\n",
       "      <th>duration</th>\n",
       "      <th>pdays</th>\n",
       "      <th>previous</th>\n",
       "      <th>poutcome</th>\n",
       "      <th>response</th>\n",
       "    </tr>\n",
       "  </thead>\n",
       "  <tbody>\n",
       "    <tr>\n",
       "      <th>0</th>\n",
       "      <td>1</td>\n",
       "      <td>58.0</td>\n",
       "      <td>100000</td>\n",
       "      <td>2143</td>\n",
       "      <td>married</td>\n",
       "      <td>management</td>\n",
       "      <td>tertiary</td>\n",
       "      <td>no</td>\n",
       "      <td>yes</td>\n",
       "      <td>no</td>\n",
       "      <td>unknown</td>\n",
       "      <td>5</td>\n",
       "      <td>may, 2017</td>\n",
       "      <td>261.0</td>\n",
       "      <td>-1</td>\n",
       "      <td>0</td>\n",
       "      <td>unknown</td>\n",
       "      <td>no</td>\n",
       "    </tr>\n",
       "    <tr>\n",
       "      <th>1</th>\n",
       "      <td>2</td>\n",
       "      <td>44.0</td>\n",
       "      <td>60000</td>\n",
       "      <td>29</td>\n",
       "      <td>single</td>\n",
       "      <td>technician</td>\n",
       "      <td>secondary</td>\n",
       "      <td>no</td>\n",
       "      <td>yes</td>\n",
       "      <td>no</td>\n",
       "      <td>unknown</td>\n",
       "      <td>5</td>\n",
       "      <td>may, 2017</td>\n",
       "      <td>151.0</td>\n",
       "      <td>-1</td>\n",
       "      <td>0</td>\n",
       "      <td>unknown</td>\n",
       "      <td>no</td>\n",
       "    </tr>\n",
       "    <tr>\n",
       "      <th>2</th>\n",
       "      <td>3</td>\n",
       "      <td>33.0</td>\n",
       "      <td>120000</td>\n",
       "      <td>2</td>\n",
       "      <td>married</td>\n",
       "      <td>entrepreneur</td>\n",
       "      <td>secondary</td>\n",
       "      <td>no</td>\n",
       "      <td>yes</td>\n",
       "      <td>yes</td>\n",
       "      <td>unknown</td>\n",
       "      <td>5</td>\n",
       "      <td>may, 2017</td>\n",
       "      <td>76.0</td>\n",
       "      <td>-1</td>\n",
       "      <td>0</td>\n",
       "      <td>unknown</td>\n",
       "      <td>no</td>\n",
       "    </tr>\n",
       "    <tr>\n",
       "      <th>3</th>\n",
       "      <td>4</td>\n",
       "      <td>47.0</td>\n",
       "      <td>20000</td>\n",
       "      <td>1506</td>\n",
       "      <td>married</td>\n",
       "      <td>blue-collar</td>\n",
       "      <td>unknown</td>\n",
       "      <td>no</td>\n",
       "      <td>yes</td>\n",
       "      <td>no</td>\n",
       "      <td>unknown</td>\n",
       "      <td>5</td>\n",
       "      <td>may, 2017</td>\n",
       "      <td>92.0</td>\n",
       "      <td>-1</td>\n",
       "      <td>0</td>\n",
       "      <td>unknown</td>\n",
       "      <td>no</td>\n",
       "    </tr>\n",
       "    <tr>\n",
       "      <th>4</th>\n",
       "      <td>5</td>\n",
       "      <td>33.0</td>\n",
       "      <td>0</td>\n",
       "      <td>1</td>\n",
       "      <td>single</td>\n",
       "      <td>unknown</td>\n",
       "      <td>unknown</td>\n",
       "      <td>no</td>\n",
       "      <td>no</td>\n",
       "      <td>no</td>\n",
       "      <td>unknown</td>\n",
       "      <td>5</td>\n",
       "      <td>may, 2017</td>\n",
       "      <td>198.0</td>\n",
       "      <td>-1</td>\n",
       "      <td>0</td>\n",
       "      <td>unknown</td>\n",
       "      <td>no</td>\n",
       "    </tr>\n",
       "  </tbody>\n",
       "</table>\n",
       "</div>"
      ],
      "text/plain": [
       "   customerid   age  salary  balance  marital           job        edu  \\\n",
       "0           1  58.0  100000     2143  married    management   tertiary   \n",
       "1           2  44.0   60000       29   single    technician  secondary   \n",
       "2           3  33.0  120000        2  married  entrepreneur  secondary   \n",
       "3           4  47.0   20000     1506  married   blue-collar    unknown   \n",
       "4           5  33.0       0        1   single       unknown    unknown   \n",
       "\n",
       "  default housing loan  contact  day      month  duration  pdays  previous  \\\n",
       "0      no     yes   no  unknown    5  may, 2017     261.0     -1         0   \n",
       "1      no     yes   no  unknown    5  may, 2017     151.0     -1         0   \n",
       "2      no     yes  yes  unknown    5  may, 2017      76.0     -1         0   \n",
       "3      no     yes   no  unknown    5  may, 2017      92.0     -1         0   \n",
       "4      no      no   no  unknown    5  may, 2017     198.0     -1         0   \n",
       "\n",
       "  poutcome response  \n",
       "0  unknown       no  \n",
       "1  unknown       no  \n",
       "2  unknown       no  \n",
       "3  unknown       no  \n",
       "4  unknown       no  "
      ]
     },
     "execution_count": 4,
     "metadata": {},
     "output_type": "execute_result"
    }
   ],
   "source": [
    "#Checking the data\n",
    "df.head()"
   ]
  },
  {
   "cell_type": "code",
   "execution_count": 5,
   "id": "b72381d6",
   "metadata": {},
   "outputs": [
    {
     "name": "stdout",
     "output_type": "stream",
     "text": [
      "<class 'pandas.core.frame.DataFrame'>\n",
      "RangeIndex: 16383 entries, 0 to 16382\n",
      "Data columns (total 18 columns):\n",
      " #   Column      Non-Null Count  Dtype  \n",
      "---  ------      --------------  -----  \n",
      " 0   customerid  16383 non-null  int64  \n",
      " 1   age         16373 non-null  float64\n",
      " 2   salary      16383 non-null  int64  \n",
      " 3   balance     16383 non-null  int64  \n",
      " 4   marital     16383 non-null  object \n",
      " 5   job         16383 non-null  object \n",
      " 6   edu         16383 non-null  object \n",
      " 7   default     16383 non-null  object \n",
      " 8   housing     16383 non-null  object \n",
      " 9   loan        16383 non-null  object \n",
      " 10  contact     16383 non-null  object \n",
      " 11  day         16383 non-null  int64  \n",
      " 12  month       16360 non-null  object \n",
      " 13  duration    16383 non-null  float64\n",
      " 14  pdays       16383 non-null  int64  \n",
      " 15  previous    16383 non-null  int64  \n",
      " 16  poutcome    16383 non-null  object \n",
      " 17  response    16373 non-null  object \n",
      "dtypes: float64(2), int64(6), object(10)\n",
      "memory usage: 2.2+ MB\n"
     ]
    }
   ],
   "source": [
    "#Checking df structure.Like type of columns and how many columns are there.\n",
    "df.info()"
   ]
  },
  {
   "cell_type": "code",
   "execution_count": 6,
   "id": "00ae7a58",
   "metadata": {},
   "outputs": [
    {
     "data": {
      "text/plain": [
       "(16383, 18)"
      ]
     },
     "execution_count": 6,
     "metadata": {},
     "output_type": "execute_result"
    }
   ],
   "source": [
    "#Checking number of rows and column\n",
    "df.shape"
   ]
  },
  {
   "cell_type": "code",
   "execution_count": 7,
   "id": "4fc281cc",
   "metadata": {},
   "outputs": [
    {
     "data": {
      "text/html": [
       "<div>\n",
       "<style scoped>\n",
       "    .dataframe tbody tr th:only-of-type {\n",
       "        vertical-align: middle;\n",
       "    }\n",
       "\n",
       "    .dataframe tbody tr th {\n",
       "        vertical-align: top;\n",
       "    }\n",
       "\n",
       "    .dataframe thead th {\n",
       "        text-align: right;\n",
       "    }\n",
       "</style>\n",
       "<table border=\"1\" class=\"dataframe\">\n",
       "  <thead>\n",
       "    <tr style=\"text-align: right;\">\n",
       "      <th></th>\n",
       "      <th>customerid</th>\n",
       "      <th>age</th>\n",
       "      <th>salary</th>\n",
       "      <th>balance</th>\n",
       "      <th>day</th>\n",
       "      <th>duration</th>\n",
       "      <th>pdays</th>\n",
       "      <th>previous</th>\n",
       "    </tr>\n",
       "  </thead>\n",
       "  <tbody>\n",
       "    <tr>\n",
       "      <th>count</th>\n",
       "      <td>16383.000000</td>\n",
       "      <td>16373.000000</td>\n",
       "      <td>16383.000000</td>\n",
       "      <td>16383.000000</td>\n",
       "      <td>16383.000000</td>\n",
       "      <td>16383.000000</td>\n",
       "      <td>16383.0</td>\n",
       "      <td>16383.0</td>\n",
       "    </tr>\n",
       "    <tr>\n",
       "      <th>mean</th>\n",
       "      <td>8192.000000</td>\n",
       "      <td>40.548891</td>\n",
       "      <td>53386.559238</td>\n",
       "      <td>1074.714826</td>\n",
       "      <td>15.102301</td>\n",
       "      <td>222.297317</td>\n",
       "      <td>-1.0</td>\n",
       "      <td>0.0</td>\n",
       "    </tr>\n",
       "    <tr>\n",
       "      <th>std</th>\n",
       "      <td>4729.509065</td>\n",
       "      <td>9.518323</td>\n",
       "      <td>31647.424076</td>\n",
       "      <td>2557.572970</td>\n",
       "      <td>7.869652</td>\n",
       "      <td>252.438247</td>\n",
       "      <td>0.0</td>\n",
       "      <td>0.0</td>\n",
       "    </tr>\n",
       "    <tr>\n",
       "      <th>min</th>\n",
       "      <td>1.000000</td>\n",
       "      <td>20.000000</td>\n",
       "      <td>0.000000</td>\n",
       "      <td>-8019.000000</td>\n",
       "      <td>1.000000</td>\n",
       "      <td>0.000000</td>\n",
       "      <td>-1.0</td>\n",
       "      <td>0.0</td>\n",
       "    </tr>\n",
       "    <tr>\n",
       "      <th>25%</th>\n",
       "      <td>4096.500000</td>\n",
       "      <td>33.000000</td>\n",
       "      <td>20000.000000</td>\n",
       "      <td>25.000000</td>\n",
       "      <td>8.000000</td>\n",
       "      <td>68.000000</td>\n",
       "      <td>-1.0</td>\n",
       "      <td>0.0</td>\n",
       "    </tr>\n",
       "    <tr>\n",
       "      <th>50%</th>\n",
       "      <td>8192.000000</td>\n",
       "      <td>39.000000</td>\n",
       "      <td>55000.000000</td>\n",
       "      <td>332.000000</td>\n",
       "      <td>15.000000</td>\n",
       "      <td>156.000000</td>\n",
       "      <td>-1.0</td>\n",
       "      <td>0.0</td>\n",
       "    </tr>\n",
       "    <tr>\n",
       "      <th>75%</th>\n",
       "      <td>12287.500000</td>\n",
       "      <td>48.000000</td>\n",
       "      <td>70000.000000</td>\n",
       "      <td>1126.000000</td>\n",
       "      <td>21.000000</td>\n",
       "      <td>285.000000</td>\n",
       "      <td>-1.0</td>\n",
       "      <td>0.0</td>\n",
       "    </tr>\n",
       "    <tr>\n",
       "      <th>max</th>\n",
       "      <td>16383.000000</td>\n",
       "      <td>61.000000</td>\n",
       "      <td>120000.000000</td>\n",
       "      <td>58932.000000</td>\n",
       "      <td>30.000000</td>\n",
       "      <td>3881.000000</td>\n",
       "      <td>-1.0</td>\n",
       "      <td>0.0</td>\n",
       "    </tr>\n",
       "  </tbody>\n",
       "</table>\n",
       "</div>"
      ],
      "text/plain": [
       "         customerid           age         salary       balance           day  \\\n",
       "count  16383.000000  16373.000000   16383.000000  16383.000000  16383.000000   \n",
       "mean    8192.000000     40.548891   53386.559238   1074.714826     15.102301   \n",
       "std     4729.509065      9.518323   31647.424076   2557.572970      7.869652   \n",
       "min        1.000000     20.000000       0.000000  -8019.000000      1.000000   \n",
       "25%     4096.500000     33.000000   20000.000000     25.000000      8.000000   \n",
       "50%     8192.000000     39.000000   55000.000000    332.000000     15.000000   \n",
       "75%    12287.500000     48.000000   70000.000000   1126.000000     21.000000   \n",
       "max    16383.000000     61.000000  120000.000000  58932.000000     30.000000   \n",
       "\n",
       "           duration    pdays  previous  \n",
       "count  16383.000000  16383.0   16383.0  \n",
       "mean     222.297317     -1.0       0.0  \n",
       "std      252.438247      0.0       0.0  \n",
       "min        0.000000     -1.0       0.0  \n",
       "25%       68.000000     -1.0       0.0  \n",
       "50%      156.000000     -1.0       0.0  \n",
       "75%      285.000000     -1.0       0.0  \n",
       "max     3881.000000     -1.0       0.0  "
      ]
     },
     "execution_count": 7,
     "metadata": {},
     "output_type": "execute_result"
    }
   ],
   "source": [
    "#Describing numerical columns of df\n",
    "df.describe()"
   ]
  },
  {
   "cell_type": "code",
   "execution_count": 8,
   "id": "81b0fb08",
   "metadata": {},
   "outputs": [
    {
     "name": "stdout",
     "output_type": "stream",
     "text": [
      "marital\n",
      "['married' 'single' 'divorced']\n",
      "job\n",
      "['management' 'technician' 'entrepreneur' 'blue-collar' 'unknown'\n",
      " 'retired' 'admin.' 'services' 'self-employed' 'unemployed' 'housemaid'\n",
      " 'student']\n",
      "edu\n",
      "['tertiary' 'secondary' 'unknown' 'primary']\n",
      "default\n",
      "['no' 'yes']\n",
      "housing\n",
      "['yes' 'no']\n",
      "loan\n",
      "['no' 'yes']\n",
      "contact\n",
      "['unknown' 'cellular' 'telephone']\n",
      "month\n",
      "['may, 2017' nan 'jun, 2017' 'jul, 2017']\n",
      "poutcome\n",
      "['unknown']\n",
      "response\n",
      "['no' 'yes' nan]\n"
     ]
    }
   ],
   "source": [
    "#Checking categorical features and their unique values\n",
    "for col in df.select_dtypes(include='object').columns:\n",
    "    print(col)\n",
    "    print(df[col].unique())"
   ]
  },
  {
   "cell_type": "markdown",
   "id": "a5e355d3",
   "metadata": {},
   "source": [
    "##### Features\n",
    " 0.   customerid  |  int64    |                                   \n",
    " 1.   age         |  float64  |  age in years                                   \n",
    " 2.   salary      |  int64    |                                                 \n",
    " 3.   balance     |  int64    |                                                 \n",
    " 4.   marital     |  object   |  marital status('married' 'single' 'divorced')  \n",
    " 5.   job         |  object   |  Type of job('management' 'technician' 'entrepreneur' 'blue-collar' 'unknown' 'retired' 'admin.' 'services' 'self-employed' 'unemployed' 'housemaid' 'student')                                  \n",
    " 6.   edu         |  object   |  Education Background('tertiary' 'secondary' 'unknown' 'primary')                              \n",
    " 7.   default     |  object   |                                                 \n",
    " 8.   housing     |  object   |  has housing loan?('yes','no')                                               \n",
    " 9.   loan        |  object   |  has personal loan?('yes','no')                                               \n",
    " 10.  contact     |  object   |  contact communication type('unknown' 'cellular' 'telephone')                                               \n",
    " 11.  day         |  int64    |                                                 \n",
    " 12.  month       |  object   |                                                 \n",
    " 13.  duration    |  float64  |  last contact duration in seconds                                               \n",
    " 14.  pdays       |  int64    |  number of days that passed by after the client was last contacted from a orevious compaign                                               \n",
    " 15.  previous    |  int64    |  number of contacts performed before this compaign and for this person                                               \n",
    " 16.  poutcome    |  object   |  outcome of the previous marketing compaign('unknown')\n",
    " ##### Label\n",
    " 17.  response    |  object   |  has the customers taken service or not('yes','no') "
   ]
  },
  {
   "cell_type": "markdown",
   "id": "9c331d36",
   "metadata": {},
   "source": [
    "# Exploratory Data Analysis\n",
    "\n",
    "##### In this section we are going to perform the following tasks \n",
    "- Find Unwanted columns\n",
    "- Find Missing values\n",
    "- Find Features with one value\n",
    "- Explore the categorical features\n",
    "- Find Categorical Feature Distribution\n",
    "- Relationship between Categorical Feature and Labels\n",
    "- Explore the numerical Feature\n",
    "- Find Discrete Numerical Features\n",
    "- Relationship between Discrete Numerical Feature and Labels\n",
    "- Find Continous Numerical Features\n",
    "- Relationship between Continous Numerical Feature and Labels\n",
    "- Find Outliers in Numerical features\n",
    "- Explore the correlation between numerical features\n",
    "- Find Pi plot\n",
    "- Check the dataset is balances or not based on target values in the classification"
   ]
  },
  {
   "cell_type": "markdown",
   "id": "b8b94e76",
   "metadata": {},
   "source": [
    "#### Find Unwanted Columns\n",
    "- 'customerid' is unwanted columns."
   ]
  },
  {
   "cell_type": "code",
   "execution_count": 9,
   "id": "29d00a74",
   "metadata": {},
   "outputs": [],
   "source": [
    "df = df.astype({'duration': np.int64})"
   ]
  },
  {
   "cell_type": "code",
   "execution_count": 10,
   "id": "946f8343",
   "metadata": {
    "scrolled": true
   },
   "outputs": [
    {
     "name": "stdout",
     "output_type": "stream",
     "text": [
      "<class 'pandas.core.frame.DataFrame'>\n",
      "RangeIndex: 16383 entries, 0 to 16382\n",
      "Data columns (total 18 columns):\n",
      " #   Column      Non-Null Count  Dtype  \n",
      "---  ------      --------------  -----  \n",
      " 0   customerid  16383 non-null  int64  \n",
      " 1   age         16373 non-null  float64\n",
      " 2   salary      16383 non-null  int64  \n",
      " 3   balance     16383 non-null  int64  \n",
      " 4   marital     16383 non-null  object \n",
      " 5   job         16383 non-null  object \n",
      " 6   edu         16383 non-null  object \n",
      " 7   default     16383 non-null  object \n",
      " 8   housing     16383 non-null  object \n",
      " 9   loan        16383 non-null  object \n",
      " 10  contact     16383 non-null  object \n",
      " 11  day         16383 non-null  int64  \n",
      " 12  month       16360 non-null  object \n",
      " 13  duration    16383 non-null  int64  \n",
      " 14  pdays       16383 non-null  int64  \n",
      " 15  previous    16383 non-null  int64  \n",
      " 16  poutcome    16383 non-null  object \n",
      " 17  response    16373 non-null  object \n",
      "dtypes: float64(1), int64(7), object(10)\n",
      "memory usage: 2.2+ MB\n"
     ]
    }
   ],
   "source": [
    "df.info()"
   ]
  },
  {
   "cell_type": "markdown",
   "id": "7e4a8827",
   "metadata": {},
   "source": [
    "#### Find Missing values"
   ]
  },
  {
   "cell_type": "code",
   "execution_count": 11,
   "id": "d8159bb4",
   "metadata": {},
   "outputs": [
    {
     "name": "stdout",
     "output_type": "stream",
     "text": [
      "age 10\n",
      "month 23\n",
      "response 10\n",
      "No missing values found\n"
     ]
    }
   ],
   "source": [
    "features_na=[features for features in df.columns if df[features].isnull().sum() > 0]\n",
    "for feature in features_na:\n",
    "    print(feature,np.round(df[feature].isnull().sum()))\n",
    "else:\n",
    "    print(\"No missing values found\")"
   ]
  },
  {
   "cell_type": "markdown",
   "id": "f89af35e",
   "metadata": {},
   "source": [
    "- There are 3 columns with missing values.\n",
    "\n",
    "Next filling these missing values using mode."
   ]
  },
  {
   "cell_type": "markdown",
   "id": "750fddfc",
   "metadata": {},
   "source": [
    "#### Find Features with one value"
   ]
  },
  {
   "cell_type": "code",
   "execution_count": 12,
   "id": "6c31c11c",
   "metadata": {},
   "outputs": [
    {
     "name": "stdout",
     "output_type": "stream",
     "text": [
      "customerid 16383\n",
      "age 42\n",
      "salary 11\n",
      "balance 4534\n",
      "marital 3\n",
      "job 12\n",
      "edu 4\n",
      "default 2\n",
      "housing 2\n",
      "loan 2\n",
      "contact 3\n",
      "day 30\n",
      "month 3\n",
      "duration 1195\n",
      "pdays 1\n",
      "previous 1\n",
      "poutcome 1\n",
      "response 2\n"
     ]
    }
   ],
   "source": [
    "for column in df.columns:\n",
    "    print(column,df[column].nunique())"
   ]
  },
  {
   "cell_type": "markdown",
   "id": "b10f43d1",
   "metadata": {},
   "source": [
    "- There are 3 columns with one value. These columns will have no effect on target variable so i will drop these columns from dataframe."
   ]
  },
  {
   "cell_type": "markdown",
   "id": "132167bf",
   "metadata": {},
   "source": [
    "#### Explore Categorical features"
   ]
  },
  {
   "cell_type": "code",
   "execution_count": 13,
   "id": "6ff9982f",
   "metadata": {},
   "outputs": [
    {
     "data": {
      "text/plain": [
       "['marital',\n",
       " 'job',\n",
       " 'edu',\n",
       " 'default',\n",
       " 'housing',\n",
       " 'loan',\n",
       " 'contact',\n",
       " 'month',\n",
       " 'poutcome',\n",
       " 'response']"
      ]
     },
     "execution_count": 13,
     "metadata": {},
     "output_type": "execute_result"
    }
   ],
   "source": [
    "categorical_features=[feature for feature in df.columns if((df[feature].dtypes=='O') & (feature not in ['deposit']))]\n",
    "categorical_features"
   ]
  },
  {
   "cell_type": "code",
   "execution_count": 14,
   "id": "d139ae9b",
   "metadata": {},
   "outputs": [
    {
     "name": "stdout",
     "output_type": "stream",
     "text": [
      "The feature is marital and number of categories are 3\n",
      "The feature is job and number of categories are 12\n",
      "The feature is edu and number of categories are 4\n",
      "The feature is default and number of categories are 2\n",
      "The feature is housing and number of categories are 2\n",
      "The feature is loan and number of categories are 2\n",
      "The feature is contact and number of categories are 3\n",
      "The feature is month and number of categories are 4\n",
      "The feature is poutcome and number of categories are 1\n",
      "The feature is response and number of categories are 3\n"
     ]
    }
   ],
   "source": [
    "for feature in categorical_features:\n",
    "    print('The feature is {} and number of categories are {}'.format(feature,len(df[feature].unique())))"
   ]
  },
  {
   "cell_type": "markdown",
   "id": "8ce772b4",
   "metadata": {},
   "source": [
    "#### Find the categorical feature distribution"
   ]
  },
  {
   "cell_type": "code",
   "execution_count": 15,
   "id": "c63d61da",
   "metadata": {},
   "outputs": [
    {
     "data": {
      "image/png": "[encoded data removed]",
      "text/plain": [
       "<Figure size 1080x5760 with 10 Axes>"
      ]
     },
     "metadata": {},
     "output_type": "display_data"
    }
   ],
   "source": [
    "plt.figure(figsize=(15,80),facecolor='white')\n",
    "plotnumber=1\n",
    "for categorical_feature in categorical_features:\n",
    "    ax=plt.subplot(12,3,plotnumber)\n",
    "    sns.countplot(y=categorical_feature,data=df)\n",
    "    plt.xlabel(categorical_feature)\n",
    "    plt.title(categorical_feature)\n",
    "    plotnumber+=1\n",
    "plt.show()"
   ]
  },
  {
   "cell_type": "markdown",
   "id": "3c381dce",
   "metadata": {},
   "source": [
    "- Married customers are majority in te dataset.\n",
    "- Maximum customers have secondary education.\n",
    "- Most of the customers have taken housing loan.\n",
    "- Contact details of most of the customers is unknown.\n",
    "- Mostly customers are contacted in may month 2017.\n"
   ]
  },
  {
   "cell_type": "markdown",
   "id": "84e0294d",
   "metadata": {},
   "source": [
    "#### Relationship between categorical features and label"
   ]
  },
  {
   "cell_type": "code",
   "execution_count": 16,
   "id": "222dba6d",
   "metadata": {
    "scrolled": false
   },
   "outputs": [
    {
     "data": {
      "image/png": "[encoded data removed]",
      "text/plain": [
       "<Figure size 1080x360 with 3 Axes>"
      ]
     },
     "metadata": {
      "needs_background": "light"
     },
     "output_type": "display_data"
    },
    {
     "data": {
      "image/png": "[encoded data removed]",
      "text/plain": [
       "<Figure size 4320x360 with 12 Axes>"
      ]
     },
     "metadata": {
      "needs_background": "light"
     },
     "output_type": "display_data"
    },
    {
     "data": {
      "image/png": "[encoded data removed]",
      "text/plain": [
       "<Figure size 1440x360 with 4 Axes>"
      ]
     },
     "metadata": {
      "needs_background": "light"
     },
     "output_type": "display_data"
    },
    {
     "data": {
      "image/png": "[encoded data removed]",
      "text/plain": [
       "<Figure size 720x360 with 2 Axes>"
      ]
     },
     "metadata": {
      "needs_background": "light"
     },
     "output_type": "display_data"
    },
    {
     "data": {
      "image/png": "[encoded data removed]",
      "text/plain": [
       "<Figure size 720x360 with 2 Axes>"
      ]
     },
     "metadata": {
      "needs_background": "light"
     },
     "output_type": "display_data"
    },
    {
     "data": {
      "image/png": "[encoded data removed]",
      "text/plain": [
       "<Figure size 720x360 with 2 Axes>"
      ]
     },
     "metadata": {
      "needs_background": "light"
     },
     "output_type": "display_data"
    },
    {
     "data": {
      "image/png": "[encoded data removed]",
      "text/plain": [
       "<Figure size 1080x360 with 3 Axes>"
      ]
     },
     "metadata": {
      "needs_background": "light"
     },
     "output_type": "display_data"
    },
    {
     "data": {
      "image/png": "[encoded data removed]",
      "text/plain": [
       "<Figure size 1080x360 with 3 Axes>"
      ]
     },
     "metadata": {
      "needs_background": "light"
     },
     "output_type": "display_data"
    },
    {
     "data": {
      "image/png": "[encoded data removed]",
      "text/plain": [
       "<Figure size 360x360 with 1 Axes>"
      ]
     },
     "metadata": {
      "needs_background": "light"
     },
     "output_type": "display_data"
    },
    {
     "data": {
      "image/png": "[encoded data removed]",
      "text/plain": [
       "<Figure size 720x360 with 2 Axes>"
      ]
     },
     "metadata": {
      "needs_background": "light"
     },
     "output_type": "display_data"
    }
   ],
   "source": [
    "for categorical_feature in categorical_features:\n",
    "    sns.catplot(x='response',col=categorical_feature,kind='count',data=df)\n",
    "plt.show()"
   ]
  },
  {
   "cell_type": "code",
   "execution_count": 17,
   "id": "7aa8ce49",
   "metadata": {},
   "outputs": [
    {
     "name": "stdout",
     "output_type": "stream",
     "text": [
      "response  marital \n",
      "no        divorced    1907\n",
      "          married     9886\n",
      "          single      3872\n",
      "yes       divorced     127\n",
      "          married      355\n",
      "          single       226\n",
      "dtype: int64\n",
      "response  job          \n",
      "no        admin.           1887\n",
      "          blue-collar      4511\n",
      "          entrepreneur      574\n",
      "          housemaid         480\n",
      "          management       2502\n",
      "          retired           604\n",
      "          self-employed     481\n",
      "          services         1734\n",
      "          student           132\n",
      "          technician       2300\n",
      "          unemployed        342\n",
      "          unknown           118\n",
      "yes       admin.             82\n",
      "          blue-collar       214\n",
      "          entrepreneur       30\n",
      "          housemaid          15\n",
      "          management        116\n",
      "          retired            24\n",
      "          self-employed      24\n",
      "          services           72\n",
      "          student             7\n",
      "          technician        105\n",
      "          unemployed         18\n",
      "          unknown             1\n",
      "dtype: int64\n",
      "response  edu      \n",
      "no        primary      2998\n",
      "          secondary    8595\n",
      "          tertiary     3334\n",
      "          unknown       738\n",
      "yes       primary       115\n",
      "          secondary     395\n",
      "          tertiary      169\n",
      "          unknown        29\n",
      "dtype: int64\n",
      "response  default\n",
      "no        no         15280\n",
      "          yes          385\n",
      "yes       no           685\n",
      "          yes           23\n",
      "dtype: int64\n",
      "response  housing\n",
      "no        no          4979\n",
      "          yes        10686\n",
      "yes       no           226\n",
      "          yes          482\n",
      "dtype: int64\n",
      "response  loan\n",
      "no        no      12552\n",
      "          yes      3113\n",
      "yes       no        561\n",
      "          yes       147\n",
      "dtype: int64\n",
      "response  contact  \n",
      "no        cellular      3075\n",
      "          telephone      389\n",
      "          unknown      12201\n",
      "yes       cellular       231\n",
      "          telephone       10\n",
      "          unknown        467\n",
      "dtype: int64\n",
      "response  month    \n",
      "no        jul, 2017    3689\n",
      "          jun, 2017    4275\n",
      "          may, 2017    7680\n",
      "yes       jul, 2017     248\n",
      "          jun, 2017     200\n",
      "          may, 2017     258\n",
      "dtype: int64\n",
      "response  poutcome\n",
      "no        unknown     15665\n",
      "yes       unknown       708\n",
      "dtype: int64\n",
      "response  response\n",
      "no        no          15665\n",
      "yes       yes           708\n",
      "dtype: int64\n"
     ]
    }
   ],
   "source": [
    "for categorical_feature in categorical_features:\n",
    "    print(df.groupby(['response',categorical_feature]).size())"
   ]
  },
  {
   "cell_type": "markdown",
   "id": "65aca161",
   "metadata": {},
   "source": [
    "- Married customers has shown more interest.\n",
    "- 'blue-collar' job type customers have shown maximum interest but majority of   them said 'No'."
   ]
  },
  {
   "cell_type": "markdown",
   "id": "e788e32b",
   "metadata": {},
   "source": [
    "#### Explore the numerical features"
   ]
  },
  {
   "cell_type": "code",
   "execution_count": 18,
   "id": "3e8e59b5",
   "metadata": {},
   "outputs": [
    {
     "name": "stdout",
     "output_type": "stream",
     "text": [
      "Number of numerical variables:  8\n"
     ]
    },
    {
     "data": {
      "text/html": [
       "<div>\n",
       "<style scoped>\n",
       "    .dataframe tbody tr th:only-of-type {\n",
       "        vertical-align: middle;\n",
       "    }\n",
       "\n",
       "    .dataframe tbody tr th {\n",
       "        vertical-align: top;\n",
       "    }\n",
       "\n",
       "    .dataframe thead th {\n",
       "        text-align: right;\n",
       "    }\n",
       "</style>\n",
       "<table border=\"1\" class=\"dataframe\">\n",
       "  <thead>\n",
       "    <tr style=\"text-align: right;\">\n",
       "      <th></th>\n",
       "      <th>customerid</th>\n",
       "      <th>age</th>\n",
       "      <th>salary</th>\n",
       "      <th>balance</th>\n",
       "      <th>day</th>\n",
       "      <th>duration</th>\n",
       "      <th>pdays</th>\n",
       "      <th>previous</th>\n",
       "    </tr>\n",
       "  </thead>\n",
       "  <tbody>\n",
       "    <tr>\n",
       "      <th>0</th>\n",
       "      <td>1</td>\n",
       "      <td>58.0</td>\n",
       "      <td>100000</td>\n",
       "      <td>2143</td>\n",
       "      <td>5</td>\n",
       "      <td>261</td>\n",
       "      <td>-1</td>\n",
       "      <td>0</td>\n",
       "    </tr>\n",
       "    <tr>\n",
       "      <th>1</th>\n",
       "      <td>2</td>\n",
       "      <td>44.0</td>\n",
       "      <td>60000</td>\n",
       "      <td>29</td>\n",
       "      <td>5</td>\n",
       "      <td>151</td>\n",
       "      <td>-1</td>\n",
       "      <td>0</td>\n",
       "    </tr>\n",
       "    <tr>\n",
       "      <th>2</th>\n",
       "      <td>3</td>\n",
       "      <td>33.0</td>\n",
       "      <td>120000</td>\n",
       "      <td>2</td>\n",
       "      <td>5</td>\n",
       "      <td>76</td>\n",
       "      <td>-1</td>\n",
       "      <td>0</td>\n",
       "    </tr>\n",
       "    <tr>\n",
       "      <th>3</th>\n",
       "      <td>4</td>\n",
       "      <td>47.0</td>\n",
       "      <td>20000</td>\n",
       "      <td>1506</td>\n",
       "      <td>5</td>\n",
       "      <td>92</td>\n",
       "      <td>-1</td>\n",
       "      <td>0</td>\n",
       "    </tr>\n",
       "    <tr>\n",
       "      <th>4</th>\n",
       "      <td>5</td>\n",
       "      <td>33.0</td>\n",
       "      <td>0</td>\n",
       "      <td>1</td>\n",
       "      <td>5</td>\n",
       "      <td>198</td>\n",
       "      <td>-1</td>\n",
       "      <td>0</td>\n",
       "    </tr>\n",
       "  </tbody>\n",
       "</table>\n",
       "</div>"
      ],
      "text/plain": [
       "   customerid   age  salary  balance  day  duration  pdays  previous\n",
       "0           1  58.0  100000     2143    5       261     -1         0\n",
       "1           2  44.0   60000       29    5       151     -1         0\n",
       "2           3  33.0  120000        2    5        76     -1         0\n",
       "3           4  47.0   20000     1506    5        92     -1         0\n",
       "4           5  33.0       0        1    5       198     -1         0"
      ]
     },
     "execution_count": 18,
     "metadata": {},
     "output_type": "execute_result"
    }
   ],
   "source": [
    "# List of numerical features\n",
    "numerical_features = [feature for feature in df.columns if ((df[feature].dtypes !='O') & (feature not in ['response']))]\n",
    "print('Number of numerical variables: ',len(numerical_features))\n",
    "# Visualise the numerical features\n",
    "df[numerical_features].head()"
   ]
  },
  {
   "cell_type": "markdown",
   "id": "5dde0182",
   "metadata": {},
   "source": [
    "#### Find Discrete Numerical features"
   ]
  },
  {
   "cell_type": "code",
   "execution_count": 19,
   "id": "9a08aa61",
   "metadata": {},
   "outputs": [
    {
     "name": "stdout",
     "output_type": "stream",
     "text": [
      "Discrete variables count: 0\n"
     ]
    }
   ],
   "source": [
    "discrete_feature=[feature for feature in numerical_features if len(df[feature].unique())<1]\n",
    "print(\"Discrete variables count: {}\".format(len(discrete_feature)))"
   ]
  },
  {
   "cell_type": "markdown",
   "id": "8b3c6c6d",
   "metadata": {},
   "source": [
    "#### Relationship between Discrete numerical features and labels\n",
    "- NA"
   ]
  },
  {
   "cell_type": "markdown",
   "id": "6c653d02",
   "metadata": {},
   "source": [
    "#### Find Continous Numerical Features"
   ]
  },
  {
   "cell_type": "code",
   "execution_count": 20,
   "id": "26e13184",
   "metadata": {},
   "outputs": [
    {
     "name": "stdout",
     "output_type": "stream",
     "text": [
      "Continuous Feature count: 8\n"
     ]
    },
    {
     "data": {
      "text/plain": [
       "['customerid',\n",
       " 'age',\n",
       " 'salary',\n",
       " 'balance',\n",
       " 'day',\n",
       " 'duration',\n",
       " 'pdays',\n",
       " 'previous']"
      ]
     },
     "execution_count": 20,
     "metadata": {},
     "output_type": "execute_result"
    }
   ],
   "source": [
    "continuous_features=[feature for feature in numerical_features if feature not in discrete_feature+['response']]\n",
    "print(\"Continuous Feature count: {}\".format(len(continuous_features)))\n",
    "continuous_features"
   ]
  },
  {
   "cell_type": "markdown",
   "id": "f9e7085c",
   "metadata": {},
   "source": [
    "- There are 8 Continous Numerical Features"
   ]
  },
  {
   "cell_type": "markdown",
   "id": "7ca83bab",
   "metadata": {},
   "source": [
    "#### Distribution of Continous Numerical Features"
   ]
  },
  {
   "cell_type": "code",
   "execution_count": 21,
   "id": "d67570ac",
   "metadata": {},
   "outputs": [
    {
     "data": {
      "image/png": "[encoded data removed]",
      "text/plain": [
       "<Figure size 1440x4320 with 1 Axes>"
      ]
     },
     "metadata": {},
     "output_type": "display_data"
    },
    {
     "data": {
      "image/png": "[encoded data removed]",
      "text/plain": [
       "<Figure size 360x360 with 1 Axes>"
      ]
     },
     "metadata": {
      "needs_background": "light"
     },
     "output_type": "display_data"
    },
    {
     "data": {
      "image/png": "[encoded data removed]",
      "text/plain": [
       "<Figure size 432x288 with 1 Axes>"
      ]
     },
     "metadata": {
      "needs_background": "light"
     },
     "output_type": "display_data"
    },
    {
     "data": {
      "image/png": "[encoded data removed]",
      "text/plain": [
       "<Figure size 360x360 with 1 Axes>"
      ]
     },
     "metadata": {
      "needs_background": "light"
     },
     "output_type": "display_data"
    },
    {
     "data": {
      "image/png": "[encoded data removed]",
      "text/plain": [
       "<Figure size 432x288 with 1 Axes>"
      ]
     },
     "metadata": {
      "needs_background": "light"
     },
     "output_type": "display_data"
    },
    {
     "data": {
      "image/png": "[encoded data removed]",
      "text/plain": [
       "<Figure size 360x360 with 1 Axes>"
      ]
     },
     "metadata": {
      "needs_background": "light"
     },
     "output_type": "display_data"
    },
    {
     "data": {
      "image/png": "[encoded data removed]",
      "text/plain": [
       "<Figure size 432x288 with 1 Axes>"
      ]
     },
     "metadata": {
      "needs_background": "light"
     },
     "output_type": "display_data"
    },
    {
     "data": {
      "image/png": "[encoded data removed]",
      "text/plain": [
       "<Figure size 360x360 with 1 Axes>"
      ]
     },
     "metadata": {
      "needs_background": "light"
     },
     "output_type": "display_data"
    },
    {
     "data": {
      "image/png": "[encoded data removed]",
      "text/plain": [
       "<Figure size 432x288 with 1 Axes>"
      ]
     },
     "metadata": {
      "needs_background": "light"
     },
     "output_type": "display_data"
    },
    {
     "data": {
      "image/png": "[encoded data removed]",
      "text/plain": [
       "<Figure size 360x360 with 1 Axes>"
      ]
     },
     "metadata": {
      "needs_background": "light"
     },
     "output_type": "display_data"
    },
    {
     "data": {
      "image/png": "[encoded data removed]",
      "text/plain": [
       "<Figure size 432x288 with 1 Axes>"
      ]
     },
     "metadata": {
      "needs_background": "light"
     },
     "output_type": "display_data"
    },
    {
     "data": {
      "image/png": "[encoded data removed]",
      "text/plain": [
       "<Figure size 360x360 with 1 Axes>"
      ]
     },
     "metadata": {
      "needs_background": "light"
     },
     "output_type": "display_data"
    },
    {
     "data": {
      "image/png": "[encoded data removed]",
      "text/plain": [
       "<Figure size 432x288 with 1 Axes>"
      ]
     },
     "metadata": {
      "needs_background": "light"
     },
     "output_type": "display_data"
    },
    {
     "data": {
      "image/png": "[encoded data removed]",
      "text/plain": [
       "<Figure size 360x360 with 1 Axes>"
      ]
     },
     "metadata": {
      "needs_background": "light"
     },
     "output_type": "display_data"
    },
    {
     "data": {
      "image/png": "[encoded data removed]",
      "text/plain": [
       "<Figure size 432x288 with 1 Axes>"
      ]
     },
     "metadata": {
      "needs_background": "light"
     },
     "output_type": "display_data"
    },
    {
     "data": {
      "image/png": "[encoded data removed]",
      "text/plain": [
       "<Figure size 360x360 with 1 Axes>"
      ]
     },
     "metadata": {
      "needs_background": "light"
     },
     "output_type": "display_data"
    }
   ],
   "source": [
    "plt.figure(figsize=(20,60),facecolor='white')\n",
    "plotnumber=1\n",
    "for continuous_feature in continuous_features:\n",
    "    ax=plt.subplot(12,3,plotnumber)\n",
    "    sns.displot(df[continuous_feature])\n",
    "    plt.xlabel(continuous_feature)\n",
    "    plotnumber+=1\n",
    "    plt.show()\n",
    "\n"
   ]
  },
  {
   "cell_type": "markdown",
   "id": "5ea4c309",
   "metadata": {},
   "source": [
    "- It looks like age is distributed better than days,balance and duration"
   ]
  },
  {
   "cell_type": "markdown",
   "id": "f9ce6e96",
   "metadata": {},
   "source": [
    "#### Relationship between Continous Numerical Features and label"
   ]
  },
  {
   "cell_type": "code",
   "execution_count": 22,
   "id": "f26f8d7f",
   "metadata": {},
   "outputs": [
    {
     "data": {
      "image/png": "[encoded data removed]",
      "text/plain": [
       "<Figure size 1440x4320 with 8 Axes>"
      ]
     },
     "metadata": {},
     "output_type": "display_data"
    }
   ],
   "source": [
    "plt.figure(figsize=(20,60),facecolor='white')\n",
    "plotnumber=1\n",
    "for feature in continuous_features:\n",
    "    ax=plt.subplot(12,3,plotnumber)\n",
    "    sns.boxplot(x='response',y=df[feature],data=df)\n",
    "    plt.xlabel(feature)\n",
    "    plotnumber+=1\n",
    "plt.show()\n"
   ]
  },
  {
   "cell_type": "markdown",
   "id": "11079060",
   "metadata": {},
   "source": [
    "#### Find Outliers in Numerical features"
   ]
  },
  {
   "cell_type": "code",
   "execution_count": 23,
   "id": "c60944bb",
   "metadata": {},
   "outputs": [
    {
     "name": "stderr",
     "output_type": "stream",
     "text": [
      "C:\\Users\\govin\\anaconda3\\lib\\site-packages\\seaborn\\_decorators.py:36: FutureWarning: Pass the following variable as a keyword arg: x. From version 0.12, the only valid positional argument will be `data`, and passing other arguments without an explicit keyword will result in an error or misinterpretation.\n",
      "  warnings.warn(\n",
      "C:\\Users\\govin\\anaconda3\\lib\\site-packages\\seaborn\\_decorators.py:36: FutureWarning: Pass the following variable as a keyword arg: x. From version 0.12, the only valid positional argument will be `data`, and passing other arguments without an explicit keyword will result in an error or misinterpretation.\n",
      "  warnings.warn(\n",
      "C:\\Users\\govin\\anaconda3\\lib\\site-packages\\seaborn\\_decorators.py:36: FutureWarning: Pass the following variable as a keyword arg: x. From version 0.12, the only valid positional argument will be `data`, and passing other arguments without an explicit keyword will result in an error or misinterpretation.\n",
      "  warnings.warn(\n",
      "C:\\Users\\govin\\anaconda3\\lib\\site-packages\\seaborn\\_decorators.py:36: FutureWarning: Pass the following variable as a keyword arg: x. From version 0.12, the only valid positional argument will be `data`, and passing other arguments without an explicit keyword will result in an error or misinterpretation.\n",
      "  warnings.warn(\n",
      "C:\\Users\\govin\\anaconda3\\lib\\site-packages\\seaborn\\_decorators.py:36: FutureWarning: Pass the following variable as a keyword arg: x. From version 0.12, the only valid positional argument will be `data`, and passing other arguments without an explicit keyword will result in an error or misinterpretation.\n",
      "  warnings.warn(\n",
      "C:\\Users\\govin\\anaconda3\\lib\\site-packages\\seaborn\\_decorators.py:36: FutureWarning: Pass the following variable as a keyword arg: x. From version 0.12, the only valid positional argument will be `data`, and passing other arguments without an explicit keyword will result in an error or misinterpretation.\n",
      "  warnings.warn(\n",
      "C:\\Users\\govin\\anaconda3\\lib\\site-packages\\seaborn\\_decorators.py:36: FutureWarning: Pass the following variable as a keyword arg: x. From version 0.12, the only valid positional argument will be `data`, and passing other arguments without an explicit keyword will result in an error or misinterpretation.\n",
      "  warnings.warn(\n",
      "C:\\Users\\govin\\anaconda3\\lib\\site-packages\\seaborn\\_decorators.py:36: FutureWarning: Pass the following variable as a keyword arg: x. From version 0.12, the only valid positional argument will be `data`, and passing other arguments without an explicit keyword will result in an error or misinterpretation.\n",
      "  warnings.warn(\n"
     ]
    },
    {
     "data": {
      "image/png": "[encoded data removed]",
      "text/plain": [
       "<Figure size 1440x4320 with 8 Axes>"
      ]
     },
     "metadata": {},
     "output_type": "display_data"
    }
   ],
   "source": [
    "plt.figure(figsize=(20,60),facecolor='white')\n",
    "plotnumber=1\n",
    "for numerical_feature in numerical_features:\n",
    "    ax=plt.subplot(12,3,plotnumber)\n",
    "    sns.boxplot(df[numerical_feature])\n",
    "    plt.xlabel(numerical_feature)\n",
    "    plotnumber+=1\n",
    "plt.show()\n"
   ]
  },
  {
   "cell_type": "markdown",
   "id": "d3479d1c",
   "metadata": {},
   "source": [
    "- balance,day and duration has some outliers."
   ]
  },
  {
   "cell_type": "markdown",
   "id": "05e75e6f",
   "metadata": {},
   "source": [
    "#### Explore the correlation between numerical features"
   ]
  },
  {
   "cell_type": "code",
   "execution_count": 24,
   "id": "0f13d8fe",
   "metadata": {
    "scrolled": true
   },
   "outputs": [
    {
     "data": {
      "text/plain": [
       "<AxesSubplot:>"
      ]
     },
     "execution_count": 24,
     "metadata": {},
     "output_type": "execute_result"
    },
    {
     "data": {
      "image/png": "[encoded data removed]",
      "text/plain": [
       "<Figure size 1080x504 with 2 Axes>"
      ]
     },
     "metadata": {
      "needs_background": "light"
     },
     "output_type": "display_data"
    }
   ],
   "source": [
    "# Checking correlation\n",
    "cor_mat=df.corr()\n",
    "fig=plt.figure(figsize=(15,7))\n",
    "sns.heatmap(cor_mat,annot=True)"
   ]
  },
  {
   "cell_type": "markdown",
   "id": "9b6181ad",
   "metadata": {},
   "source": [
    "-It looks like no feature is heavily  correlated with other features"
   ]
  },
  {
   "cell_type": "markdown",
   "id": "cbafc646",
   "metadata": {},
   "source": [
    "#### Check the Data Set is balanced or not based on the target values in the classification"
   ]
  },
  {
   "cell_type": "code",
   "execution_count": 25,
   "id": "170cefed",
   "metadata": {},
   "outputs": [
    {
     "data": {
      "image/png": "[encoded data removed]",
      "text/plain": [
       "<Figure size 432x288 with 1 Axes>"
      ]
     },
     "metadata": {
      "needs_background": "light"
     },
     "output_type": "display_data"
    }
   ],
   "source": [
    "# Checking by countplot\n",
    "sns.countplot(x='response',data=df)\n",
    "plt.show()"
   ]
  },
  {
   "cell_type": "code",
   "execution_count": 26,
   "id": "8c3a40ad",
   "metadata": {},
   "outputs": [
    {
     "data": {
      "text/plain": [
       "response\n",
       "no     15665\n",
       "yes      708\n",
       "Name: response, dtype: int64"
      ]
     },
     "execution_count": 26,
     "metadata": {},
     "output_type": "execute_result"
    }
   ],
   "source": [
    "# Checking by numbers.\n",
    "df['response'].groupby(df['response']).count()"
   ]
  },
  {
   "cell_type": "markdown",
   "id": "043e6f6f",
   "metadata": {},
   "source": [
    "- The Dataset is biased toward 'no'. So it is a unbalansed dataset. In feature enginering i will try to baance the dataset."
   ]
  },
  {
   "cell_type": "markdown",
   "id": "896ffb10",
   "metadata": {},
   "source": [
    "# Feature Engineering\n",
    "\n",
    "- Drop unwanted Features\n",
    "- Handle Missing Values\n",
    "- Handle Categorical Features\n",
    "- Handle Feature scalling.\n",
    "- Remove Outliers\n",
    "- Handle unbalanced dataset\n",
    "\n",
    "As per Exploratory Data Analysis EDA\n",
    "- One unwanted fature is there\n",
    "- Missing values are found\n",
    "- Three feature found with one value\n",
    "- Default feature doesn't play important role\n",
    "- There are some outliers found\n",
    "- Found that dataset is unbalanced."
   ]
  },
  {
   "cell_type": "code",
   "execution_count": 27,
   "id": "a569e8eb",
   "metadata": {},
   "outputs": [],
   "source": [
    "#dropping 'customerid' from the dataframe\n",
    "df.drop('customerid', axis=1, inplace=True)"
   ]
  },
  {
   "cell_type": "code",
   "execution_count": 28,
   "id": "56e77cdb",
   "metadata": {},
   "outputs": [],
   "source": [
    "# Filling missing values\n",
    "df['age']=df['age'].fillna(df['age'].mode()[0])\n",
    "df['response']=df['response'].fillna(df['response'].mode()[0])\n",
    "df['month']=df['month'].fillna(df['month'].mode()[0])"
   ]
  },
  {
   "cell_type": "code",
   "execution_count": 29,
   "id": "0d9a4b96",
   "metadata": {},
   "outputs": [],
   "source": [
    "# dropping one value features\n",
    "df.drop(['pdays','previous','poutcome'], axis=1, inplace=True)"
   ]
  },
  {
   "cell_type": "code",
   "execution_count": 30,
   "id": "f6b8320c",
   "metadata": {},
   "outputs": [],
   "source": [
    "df.drop(['default'],axis=1,inplace=True)"
   ]
  },
  {
   "cell_type": "code",
   "execution_count": 31,
   "id": "37b47eae",
   "metadata": {},
   "outputs": [],
   "source": [
    "df2=df.copy()"
   ]
  },
  {
   "cell_type": "code",
   "execution_count": 32,
   "id": "65544c10",
   "metadata": {},
   "outputs": [
    {
     "data": {
      "text/html": [
       "<div>\n",
       "<style scoped>\n",
       "    .dataframe tbody tr th:only-of-type {\n",
       "        vertical-align: middle;\n",
       "    }\n",
       "\n",
       "    .dataframe tbody tr th {\n",
       "        vertical-align: top;\n",
       "    }\n",
       "\n",
       "    .dataframe thead th {\n",
       "        text-align: right;\n",
       "    }\n",
       "</style>\n",
       "<table border=\"1\" class=\"dataframe\">\n",
       "  <thead>\n",
       "    <tr style=\"text-align: right;\">\n",
       "      <th></th>\n",
       "      <th>age</th>\n",
       "      <th>salary</th>\n",
       "      <th>balance</th>\n",
       "      <th>marital</th>\n",
       "      <th>job</th>\n",
       "      <th>edu</th>\n",
       "      <th>housing</th>\n",
       "      <th>loan</th>\n",
       "      <th>contact</th>\n",
       "      <th>day</th>\n",
       "      <th>month</th>\n",
       "      <th>duration</th>\n",
       "      <th>response</th>\n",
       "    </tr>\n",
       "  </thead>\n",
       "  <tbody>\n",
       "    <tr>\n",
       "      <th>0</th>\n",
       "      <td>58.0</td>\n",
       "      <td>100000</td>\n",
       "      <td>2143</td>\n",
       "      <td>married</td>\n",
       "      <td>management</td>\n",
       "      <td>tertiary</td>\n",
       "      <td>yes</td>\n",
       "      <td>no</td>\n",
       "      <td>unknown</td>\n",
       "      <td>5</td>\n",
       "      <td>may, 2017</td>\n",
       "      <td>261</td>\n",
       "      <td>no</td>\n",
       "    </tr>\n",
       "    <tr>\n",
       "      <th>1</th>\n",
       "      <td>44.0</td>\n",
       "      <td>60000</td>\n",
       "      <td>29</td>\n",
       "      <td>single</td>\n",
       "      <td>technician</td>\n",
       "      <td>secondary</td>\n",
       "      <td>yes</td>\n",
       "      <td>no</td>\n",
       "      <td>unknown</td>\n",
       "      <td>5</td>\n",
       "      <td>may, 2017</td>\n",
       "      <td>151</td>\n",
       "      <td>no</td>\n",
       "    </tr>\n",
       "    <tr>\n",
       "      <th>2</th>\n",
       "      <td>33.0</td>\n",
       "      <td>120000</td>\n",
       "      <td>2</td>\n",
       "      <td>married</td>\n",
       "      <td>entrepreneur</td>\n",
       "      <td>secondary</td>\n",
       "      <td>yes</td>\n",
       "      <td>yes</td>\n",
       "      <td>unknown</td>\n",
       "      <td>5</td>\n",
       "      <td>may, 2017</td>\n",
       "      <td>76</td>\n",
       "      <td>no</td>\n",
       "    </tr>\n",
       "    <tr>\n",
       "      <th>3</th>\n",
       "      <td>47.0</td>\n",
       "      <td>20000</td>\n",
       "      <td>1506</td>\n",
       "      <td>married</td>\n",
       "      <td>blue-collar</td>\n",
       "      <td>unknown</td>\n",
       "      <td>yes</td>\n",
       "      <td>no</td>\n",
       "      <td>unknown</td>\n",
       "      <td>5</td>\n",
       "      <td>may, 2017</td>\n",
       "      <td>92</td>\n",
       "      <td>no</td>\n",
       "    </tr>\n",
       "    <tr>\n",
       "      <th>4</th>\n",
       "      <td>33.0</td>\n",
       "      <td>0</td>\n",
       "      <td>1</td>\n",
       "      <td>single</td>\n",
       "      <td>unknown</td>\n",
       "      <td>unknown</td>\n",
       "      <td>no</td>\n",
       "      <td>no</td>\n",
       "      <td>unknown</td>\n",
       "      <td>5</td>\n",
       "      <td>may, 2017</td>\n",
       "      <td>198</td>\n",
       "      <td>no</td>\n",
       "    </tr>\n",
       "  </tbody>\n",
       "</table>\n",
       "</div>"
      ],
      "text/plain": [
       "    age  salary  balance  marital           job        edu housing loan  \\\n",
       "0  58.0  100000     2143  married    management   tertiary     yes   no   \n",
       "1  44.0   60000       29   single    technician  secondary     yes   no   \n",
       "2  33.0  120000        2  married  entrepreneur  secondary     yes  yes   \n",
       "3  47.0   20000     1506  married   blue-collar    unknown     yes   no   \n",
       "4  33.0       0        1   single       unknown    unknown      no   no   \n",
       "\n",
       "   contact  day      month  duration response  \n",
       "0  unknown    5  may, 2017       261       no  \n",
       "1  unknown    5  may, 2017       151       no  \n",
       "2  unknown    5  may, 2017        76       no  \n",
       "3  unknown    5  may, 2017        92       no  \n",
       "4  unknown    5  may, 2017       198       no  "
      ]
     },
     "execution_count": 32,
     "metadata": {},
     "output_type": "execute_result"
    }
   ],
   "source": [
    "df2.head()"
   ]
  },
  {
   "cell_type": "code",
   "execution_count": 33,
   "id": "b279f284",
   "metadata": {},
   "outputs": [
    {
     "name": "stdout",
     "output_type": "stream",
     "text": [
      "<class 'pandas.core.frame.DataFrame'>\n",
      "RangeIndex: 16383 entries, 0 to 16382\n",
      "Data columns (total 13 columns):\n",
      " #   Column    Non-Null Count  Dtype  \n",
      "---  ------    --------------  -----  \n",
      " 0   age       16383 non-null  float64\n",
      " 1   salary    16383 non-null  int64  \n",
      " 2   balance   16383 non-null  int64  \n",
      " 3   marital   16383 non-null  object \n",
      " 4   job       16383 non-null  object \n",
      " 5   edu       16383 non-null  object \n",
      " 6   housing   16383 non-null  object \n",
      " 7   loan      16383 non-null  object \n",
      " 8   contact   16383 non-null  object \n",
      " 9   day       16383 non-null  int64  \n",
      " 10  month     16383 non-null  object \n",
      " 11  duration  16383 non-null  int64  \n",
      " 12  response  16383 non-null  object \n",
      "dtypes: float64(1), int64(4), object(8)\n",
      "memory usage: 1.6+ MB\n"
     ]
    }
   ],
   "source": [
    "df.info()"
   ]
  },
  {
   "cell_type": "code",
   "execution_count": 34,
   "id": "c7dbeba9",
   "metadata": {},
   "outputs": [
    {
     "data": {
      "text/plain": [
       "response  balance\n",
       "no        -8019      1\n",
       "          -6847      1\n",
       "          -3372      1\n",
       "          -3313      1\n",
       "          -2282      1\n",
       "                    ..\n",
       "yes        11008     1\n",
       "           12956     1\n",
       "           14481     1\n",
       "           18188     1\n",
       "           45248     1\n",
       "Name: balance, Length: 5018, dtype: int64"
      ]
     },
     "execution_count": 34,
     "metadata": {},
     "output_type": "execute_result"
    }
   ],
   "source": [
    "# remove outliers in feature balance\n",
    "df2.groupby(['response','balance'],sort=True)['balance'].count()\n",
    "# These outliers can not be removed as balance goes high, client shows interest"
   ]
  },
  {
   "cell_type": "code",
   "execution_count": 35,
   "id": "8a033022",
   "metadata": {},
   "outputs": [
    {
     "data": {
      "text/plain": [
       "response  duration\n",
       "no        0           152\n",
       "          1           482\n",
       "          2           428\n",
       "          3           292\n",
       "          4           206\n",
       "                     ... \n",
       "yes       2653          1\n",
       "          2769          1\n",
       "          3094          1\n",
       "          3183          1\n",
       "          3881          1\n",
       "Name: duration, Length: 1472, dtype: int64"
      ]
     },
     "execution_count": 35,
     "metadata": {},
     "output_type": "execute_result"
    }
   ],
   "source": [
    "# remove outliers in feature duration\n",
    "df2.groupby(['response','duration'],sort=True)['duration'].count()\n",
    "# These outliers can not be removed as duration goes high, client shows interest"
   ]
  },
  {
   "cell_type": "code",
   "execution_count": 36,
   "id": "6f6a33f8",
   "metadata": {},
   "outputs": [
    {
     "data": {
      "text/plain": [
       "response  day\n",
       "no        1        50\n",
       "          2       397\n",
       "          3       416\n",
       "          4       327\n",
       "          5       692\n",
       "          6       777\n",
       "          7       709\n",
       "          8       762\n",
       "          9      1039\n",
       "          10      291\n",
       "          11      413\n",
       "          12      459\n",
       "          13      397\n",
       "          14      698\n",
       "          15      689\n",
       "          16      853\n",
       "          17      590\n",
       "          18      491\n",
       "          19      603\n",
       "          20      953\n",
       "          21      764\n",
       "          22      298\n",
       "          23      602\n",
       "          24       17\n",
       "          25       30\n",
       "          26      460\n",
       "          27      529\n",
       "          28      493\n",
       "          29      426\n",
       "          30      450\n",
       "yes       1         3\n",
       "          2        15\n",
       "          3        15\n",
       "          4        18\n",
       "          5        28\n",
       "          6        26\n",
       "          7        27\n",
       "          8        33\n",
       "          9        43\n",
       "          10       22\n",
       "          11       25\n",
       "          12       13\n",
       "          13       16\n",
       "          14       25\n",
       "          15       40\n",
       "          16       58\n",
       "          17       29\n",
       "          18       42\n",
       "          19       24\n",
       "          20       39\n",
       "          21       40\n",
       "          22       15\n",
       "          23       21\n",
       "          24        1\n",
       "          26       21\n",
       "          27       11\n",
       "          28       15\n",
       "          29       16\n",
       "          30       27\n",
       "Name: day, dtype: int64"
      ]
     },
     "execution_count": 36,
     "metadata": {},
     "output_type": "execute_result"
    }
   ],
   "source": [
    "df2.groupby(['response','day'],sort=True)['day'].count()"
   ]
  },
  {
   "cell_type": "code",
   "execution_count": 37,
   "id": "6684fdfe",
   "metadata": {},
   "outputs": [
    {
     "data": {
      "text/html": [
       "<div>\n",
       "<style scoped>\n",
       "    .dataframe tbody tr th:only-of-type {\n",
       "        vertical-align: middle;\n",
       "    }\n",
       "\n",
       "    .dataframe tbody tr th {\n",
       "        vertical-align: top;\n",
       "    }\n",
       "\n",
       "    .dataframe thead th {\n",
       "        text-align: right;\n",
       "    }\n",
       "</style>\n",
       "<table border=\"1\" class=\"dataframe\">\n",
       "  <thead>\n",
       "    <tr style=\"text-align: right;\">\n",
       "      <th></th>\n",
       "      <th>age</th>\n",
       "      <th>salary</th>\n",
       "      <th>balance</th>\n",
       "      <th>marital</th>\n",
       "      <th>job</th>\n",
       "      <th>edu</th>\n",
       "      <th>housing</th>\n",
       "      <th>loan</th>\n",
       "      <th>contact</th>\n",
       "      <th>day</th>\n",
       "      <th>month</th>\n",
       "      <th>duration</th>\n",
       "      <th>response</th>\n",
       "    </tr>\n",
       "  </thead>\n",
       "  <tbody>\n",
       "    <tr>\n",
       "      <th>0</th>\n",
       "      <td>58.0</td>\n",
       "      <td>100000</td>\n",
       "      <td>2143</td>\n",
       "      <td>married</td>\n",
       "      <td>management</td>\n",
       "      <td>tertiary</td>\n",
       "      <td>yes</td>\n",
       "      <td>no</td>\n",
       "      <td>unknown</td>\n",
       "      <td>5</td>\n",
       "      <td>may, 2017</td>\n",
       "      <td>261</td>\n",
       "      <td>no</td>\n",
       "    </tr>\n",
       "    <tr>\n",
       "      <th>1</th>\n",
       "      <td>44.0</td>\n",
       "      <td>60000</td>\n",
       "      <td>29</td>\n",
       "      <td>single</td>\n",
       "      <td>technician</td>\n",
       "      <td>secondary</td>\n",
       "      <td>yes</td>\n",
       "      <td>no</td>\n",
       "      <td>unknown</td>\n",
       "      <td>5</td>\n",
       "      <td>may, 2017</td>\n",
       "      <td>151</td>\n",
       "      <td>no</td>\n",
       "    </tr>\n",
       "    <tr>\n",
       "      <th>2</th>\n",
       "      <td>33.0</td>\n",
       "      <td>120000</td>\n",
       "      <td>2</td>\n",
       "      <td>married</td>\n",
       "      <td>entrepreneur</td>\n",
       "      <td>secondary</td>\n",
       "      <td>yes</td>\n",
       "      <td>yes</td>\n",
       "      <td>unknown</td>\n",
       "      <td>5</td>\n",
       "      <td>may, 2017</td>\n",
       "      <td>76</td>\n",
       "      <td>no</td>\n",
       "    </tr>\n",
       "    <tr>\n",
       "      <th>3</th>\n",
       "      <td>47.0</td>\n",
       "      <td>20000</td>\n",
       "      <td>1506</td>\n",
       "      <td>married</td>\n",
       "      <td>blue-collar</td>\n",
       "      <td>unknown</td>\n",
       "      <td>yes</td>\n",
       "      <td>no</td>\n",
       "      <td>unknown</td>\n",
       "      <td>5</td>\n",
       "      <td>may, 2017</td>\n",
       "      <td>92</td>\n",
       "      <td>no</td>\n",
       "    </tr>\n",
       "    <tr>\n",
       "      <th>4</th>\n",
       "      <td>33.0</td>\n",
       "      <td>0</td>\n",
       "      <td>1</td>\n",
       "      <td>single</td>\n",
       "      <td>unknown</td>\n",
       "      <td>unknown</td>\n",
       "      <td>no</td>\n",
       "      <td>no</td>\n",
       "      <td>unknown</td>\n",
       "      <td>5</td>\n",
       "      <td>may, 2017</td>\n",
       "      <td>198</td>\n",
       "      <td>no</td>\n",
       "    </tr>\n",
       "  </tbody>\n",
       "</table>\n",
       "</div>"
      ],
      "text/plain": [
       "    age  salary  balance  marital           job        edu housing loan  \\\n",
       "0  58.0  100000     2143  married    management   tertiary     yes   no   \n",
       "1  44.0   60000       29   single    technician  secondary     yes   no   \n",
       "2  33.0  120000        2  married  entrepreneur  secondary     yes  yes   \n",
       "3  47.0   20000     1506  married   blue-collar    unknown     yes   no   \n",
       "4  33.0       0        1   single       unknown    unknown      no   no   \n",
       "\n",
       "   contact  day      month  duration response  \n",
       "0  unknown    5  may, 2017       261       no  \n",
       "1  unknown    5  may, 2017       151       no  \n",
       "2  unknown    5  may, 2017        76       no  \n",
       "3  unknown    5  may, 2017        92       no  \n",
       "4  unknown    5  may, 2017       198       no  "
      ]
     },
     "execution_count": 37,
     "metadata": {},
     "output_type": "execute_result"
    }
   ],
   "source": [
    "df2.head()"
   ]
  },
  {
   "cell_type": "code",
   "execution_count": 38,
   "id": "9a452eaf",
   "metadata": {},
   "outputs": [
    {
     "data": {
      "text/html": [
       "<div>\n",
       "<style scoped>\n",
       "    .dataframe tbody tr th:only-of-type {\n",
       "        vertical-align: middle;\n",
       "    }\n",
       "\n",
       "    .dataframe tbody tr th {\n",
       "        vertical-align: top;\n",
       "    }\n",
       "\n",
       "    .dataframe thead th {\n",
       "        text-align: right;\n",
       "    }\n",
       "</style>\n",
       "<table border=\"1\" class=\"dataframe\">\n",
       "  <thead>\n",
       "    <tr style=\"text-align: right;\">\n",
       "      <th></th>\n",
       "      <th>age</th>\n",
       "      <th>salary</th>\n",
       "      <th>balance</th>\n",
       "      <th>housing</th>\n",
       "      <th>loan</th>\n",
       "      <th>day</th>\n",
       "      <th>duration</th>\n",
       "      <th>response</th>\n",
       "      <th>divorced</th>\n",
       "      <th>married</th>\n",
       "      <th>...</th>\n",
       "      <th>primary</th>\n",
       "      <th>secondary</th>\n",
       "      <th>tertiary</th>\n",
       "      <th>unknown</th>\n",
       "      <th>cellular</th>\n",
       "      <th>telephone</th>\n",
       "      <th>unknown</th>\n",
       "      <th>jul, 2017</th>\n",
       "      <th>jun, 2017</th>\n",
       "      <th>may, 2017</th>\n",
       "    </tr>\n",
       "  </thead>\n",
       "  <tbody>\n",
       "    <tr>\n",
       "      <th>0</th>\n",
       "      <td>58.0</td>\n",
       "      <td>100000</td>\n",
       "      <td>2143</td>\n",
       "      <td>yes</td>\n",
       "      <td>no</td>\n",
       "      <td>5</td>\n",
       "      <td>261</td>\n",
       "      <td>no</td>\n",
       "      <td>0</td>\n",
       "      <td>1</td>\n",
       "      <td>...</td>\n",
       "      <td>0</td>\n",
       "      <td>0</td>\n",
       "      <td>1</td>\n",
       "      <td>0</td>\n",
       "      <td>0</td>\n",
       "      <td>0</td>\n",
       "      <td>1</td>\n",
       "      <td>0</td>\n",
       "      <td>0</td>\n",
       "      <td>1</td>\n",
       "    </tr>\n",
       "    <tr>\n",
       "      <th>1</th>\n",
       "      <td>44.0</td>\n",
       "      <td>60000</td>\n",
       "      <td>29</td>\n",
       "      <td>yes</td>\n",
       "      <td>no</td>\n",
       "      <td>5</td>\n",
       "      <td>151</td>\n",
       "      <td>no</td>\n",
       "      <td>0</td>\n",
       "      <td>0</td>\n",
       "      <td>...</td>\n",
       "      <td>0</td>\n",
       "      <td>1</td>\n",
       "      <td>0</td>\n",
       "      <td>0</td>\n",
       "      <td>0</td>\n",
       "      <td>0</td>\n",
       "      <td>1</td>\n",
       "      <td>0</td>\n",
       "      <td>0</td>\n",
       "      <td>1</td>\n",
       "    </tr>\n",
       "    <tr>\n",
       "      <th>2</th>\n",
       "      <td>33.0</td>\n",
       "      <td>120000</td>\n",
       "      <td>2</td>\n",
       "      <td>yes</td>\n",
       "      <td>yes</td>\n",
       "      <td>5</td>\n",
       "      <td>76</td>\n",
       "      <td>no</td>\n",
       "      <td>0</td>\n",
       "      <td>1</td>\n",
       "      <td>...</td>\n",
       "      <td>0</td>\n",
       "      <td>1</td>\n",
       "      <td>0</td>\n",
       "      <td>0</td>\n",
       "      <td>0</td>\n",
       "      <td>0</td>\n",
       "      <td>1</td>\n",
       "      <td>0</td>\n",
       "      <td>0</td>\n",
       "      <td>1</td>\n",
       "    </tr>\n",
       "    <tr>\n",
       "      <th>3</th>\n",
       "      <td>47.0</td>\n",
       "      <td>20000</td>\n",
       "      <td>1506</td>\n",
       "      <td>yes</td>\n",
       "      <td>no</td>\n",
       "      <td>5</td>\n",
       "      <td>92</td>\n",
       "      <td>no</td>\n",
       "      <td>0</td>\n",
       "      <td>1</td>\n",
       "      <td>...</td>\n",
       "      <td>0</td>\n",
       "      <td>0</td>\n",
       "      <td>0</td>\n",
       "      <td>1</td>\n",
       "      <td>0</td>\n",
       "      <td>0</td>\n",
       "      <td>1</td>\n",
       "      <td>0</td>\n",
       "      <td>0</td>\n",
       "      <td>1</td>\n",
       "    </tr>\n",
       "    <tr>\n",
       "      <th>4</th>\n",
       "      <td>33.0</td>\n",
       "      <td>0</td>\n",
       "      <td>1</td>\n",
       "      <td>no</td>\n",
       "      <td>no</td>\n",
       "      <td>5</td>\n",
       "      <td>198</td>\n",
       "      <td>no</td>\n",
       "      <td>0</td>\n",
       "      <td>0</td>\n",
       "      <td>...</td>\n",
       "      <td>0</td>\n",
       "      <td>0</td>\n",
       "      <td>0</td>\n",
       "      <td>1</td>\n",
       "      <td>0</td>\n",
       "      <td>0</td>\n",
       "      <td>1</td>\n",
       "      <td>0</td>\n",
       "      <td>0</td>\n",
       "      <td>1</td>\n",
       "    </tr>\n",
       "  </tbody>\n",
       "</table>\n",
       "<p>5 rows × 33 columns</p>\n",
       "</div>"
      ],
      "text/plain": [
       "    age  salary  balance housing loan  day  duration response  divorced  \\\n",
       "0  58.0  100000     2143     yes   no    5       261       no         0   \n",
       "1  44.0   60000       29     yes   no    5       151       no         0   \n",
       "2  33.0  120000        2     yes  yes    5        76       no         0   \n",
       "3  47.0   20000     1506     yes   no    5        92       no         0   \n",
       "4  33.0       0        1      no   no    5       198       no         0   \n",
       "\n",
       "   married  ...  primary  secondary  tertiary  unknown  cellular  telephone  \\\n",
       "0        1  ...        0          0         1        0         0          0   \n",
       "1        0  ...        0          1         0        0         0          0   \n",
       "2        1  ...        0          1         0        0         0          0   \n",
       "3        1  ...        0          0         0        1         0          0   \n",
       "4        0  ...        0          0         0        1         0          0   \n",
       "\n",
       "   unknown  jul, 2017  jun, 2017  may, 2017  \n",
       "0        1          0          0          1  \n",
       "1        1          0          0          1  \n",
       "2        1          0          0          1  \n",
       "3        1          0          0          1  \n",
       "4        1          0          0          1  \n",
       "\n",
       "[5 rows x 33 columns]"
      ]
     },
     "execution_count": 38,
     "metadata": {},
     "output_type": "execute_result"
    }
   ],
   "source": [
    "# lets prepare categorical features\n",
    "\n",
    "cat_colmns=['marital','job','edu','contact','month']\n",
    "\n",
    "df_dumm1=pd.get_dummies(df2['marital'])\n",
    "df_dumm2=pd.get_dummies(df2['job'])\n",
    "df_dumm3=pd.get_dummies(df2['edu'])\n",
    "df_dumm4=pd.get_dummies(df2['contact'])\n",
    "df_dumm5=pd.get_dummies(df2['month'])\n",
    "\n",
    "df2.drop(cat_colmns,axis=1,inplace=True)\n",
    "\n",
    "df3=pd.concat([df2,df_dumm1,df_dumm2,df_dumm3,df_dumm4,df_dumm5], axis=1)\n",
    "df3.head()"
   ]
  },
  {
   "cell_type": "code",
   "execution_count": 39,
   "id": "8eee8ea6",
   "metadata": {},
   "outputs": [],
   "source": [
    "# CTEGORICAL FEATURES WHICH ARE HAVING VALUES AS 'YES' OR 'NO'\n",
    "\n",
    "bool_columns=['housing','loan','response']\n",
    "for col in bool_columns:\n",
    "    df3[col+'_new']=df3[col].apply(lambda x:1 if x=='yes' else 0)\n",
    "    df3.drop(col,axis=1,inplace=True)"
   ]
  },
  {
   "cell_type": "code",
   "execution_count": 40,
   "id": "d59341f7",
   "metadata": {},
   "outputs": [
    {
     "data": {
      "text/html": [
       "<div>\n",
       "<style scoped>\n",
       "    .dataframe tbody tr th:only-of-type {\n",
       "        vertical-align: middle;\n",
       "    }\n",
       "\n",
       "    .dataframe tbody tr th {\n",
       "        vertical-align: top;\n",
       "    }\n",
       "\n",
       "    .dataframe thead th {\n",
       "        text-align: right;\n",
       "    }\n",
       "</style>\n",
       "<table border=\"1\" class=\"dataframe\">\n",
       "  <thead>\n",
       "    <tr style=\"text-align: right;\">\n",
       "      <th></th>\n",
       "      <th>age</th>\n",
       "      <th>salary</th>\n",
       "      <th>balance</th>\n",
       "      <th>day</th>\n",
       "      <th>duration</th>\n",
       "      <th>divorced</th>\n",
       "      <th>married</th>\n",
       "      <th>single</th>\n",
       "      <th>admin.</th>\n",
       "      <th>blue-collar</th>\n",
       "      <th>...</th>\n",
       "      <th>unknown</th>\n",
       "      <th>cellular</th>\n",
       "      <th>telephone</th>\n",
       "      <th>unknown</th>\n",
       "      <th>jul, 2017</th>\n",
       "      <th>jun, 2017</th>\n",
       "      <th>may, 2017</th>\n",
       "      <th>housing_new</th>\n",
       "      <th>loan_new</th>\n",
       "      <th>response_new</th>\n",
       "    </tr>\n",
       "  </thead>\n",
       "  <tbody>\n",
       "    <tr>\n",
       "      <th>0</th>\n",
       "      <td>58.0</td>\n",
       "      <td>100000</td>\n",
       "      <td>2143</td>\n",
       "      <td>5</td>\n",
       "      <td>261</td>\n",
       "      <td>0</td>\n",
       "      <td>1</td>\n",
       "      <td>0</td>\n",
       "      <td>0</td>\n",
       "      <td>0</td>\n",
       "      <td>...</td>\n",
       "      <td>0</td>\n",
       "      <td>0</td>\n",
       "      <td>0</td>\n",
       "      <td>1</td>\n",
       "      <td>0</td>\n",
       "      <td>0</td>\n",
       "      <td>1</td>\n",
       "      <td>1</td>\n",
       "      <td>0</td>\n",
       "      <td>0</td>\n",
       "    </tr>\n",
       "    <tr>\n",
       "      <th>1</th>\n",
       "      <td>44.0</td>\n",
       "      <td>60000</td>\n",
       "      <td>29</td>\n",
       "      <td>5</td>\n",
       "      <td>151</td>\n",
       "      <td>0</td>\n",
       "      <td>0</td>\n",
       "      <td>1</td>\n",
       "      <td>0</td>\n",
       "      <td>0</td>\n",
       "      <td>...</td>\n",
       "      <td>0</td>\n",
       "      <td>0</td>\n",
       "      <td>0</td>\n",
       "      <td>1</td>\n",
       "      <td>0</td>\n",
       "      <td>0</td>\n",
       "      <td>1</td>\n",
       "      <td>1</td>\n",
       "      <td>0</td>\n",
       "      <td>0</td>\n",
       "    </tr>\n",
       "    <tr>\n",
       "      <th>2</th>\n",
       "      <td>33.0</td>\n",
       "      <td>120000</td>\n",
       "      <td>2</td>\n",
       "      <td>5</td>\n",
       "      <td>76</td>\n",
       "      <td>0</td>\n",
       "      <td>1</td>\n",
       "      <td>0</td>\n",
       "      <td>0</td>\n",
       "      <td>0</td>\n",
       "      <td>...</td>\n",
       "      <td>0</td>\n",
       "      <td>0</td>\n",
       "      <td>0</td>\n",
       "      <td>1</td>\n",
       "      <td>0</td>\n",
       "      <td>0</td>\n",
       "      <td>1</td>\n",
       "      <td>1</td>\n",
       "      <td>1</td>\n",
       "      <td>0</td>\n",
       "    </tr>\n",
       "    <tr>\n",
       "      <th>3</th>\n",
       "      <td>47.0</td>\n",
       "      <td>20000</td>\n",
       "      <td>1506</td>\n",
       "      <td>5</td>\n",
       "      <td>92</td>\n",
       "      <td>0</td>\n",
       "      <td>1</td>\n",
       "      <td>0</td>\n",
       "      <td>0</td>\n",
       "      <td>1</td>\n",
       "      <td>...</td>\n",
       "      <td>1</td>\n",
       "      <td>0</td>\n",
       "      <td>0</td>\n",
       "      <td>1</td>\n",
       "      <td>0</td>\n",
       "      <td>0</td>\n",
       "      <td>1</td>\n",
       "      <td>1</td>\n",
       "      <td>0</td>\n",
       "      <td>0</td>\n",
       "    </tr>\n",
       "    <tr>\n",
       "      <th>4</th>\n",
       "      <td>33.0</td>\n",
       "      <td>0</td>\n",
       "      <td>1</td>\n",
       "      <td>5</td>\n",
       "      <td>198</td>\n",
       "      <td>0</td>\n",
       "      <td>0</td>\n",
       "      <td>1</td>\n",
       "      <td>0</td>\n",
       "      <td>0</td>\n",
       "      <td>...</td>\n",
       "      <td>1</td>\n",
       "      <td>0</td>\n",
       "      <td>0</td>\n",
       "      <td>1</td>\n",
       "      <td>0</td>\n",
       "      <td>0</td>\n",
       "      <td>1</td>\n",
       "      <td>0</td>\n",
       "      <td>0</td>\n",
       "      <td>0</td>\n",
       "    </tr>\n",
       "  </tbody>\n",
       "</table>\n",
       "<p>5 rows × 33 columns</p>\n",
       "</div>"
      ],
      "text/plain": [
       "    age  salary  balance  day  duration  divorced  married  single  admin.  \\\n",
       "0  58.0  100000     2143    5       261         0        1       0       0   \n",
       "1  44.0   60000       29    5       151         0        0       1       0   \n",
       "2  33.0  120000        2    5        76         0        1       0       0   \n",
       "3  47.0   20000     1506    5        92         0        1       0       0   \n",
       "4  33.0       0        1    5       198         0        0       1       0   \n",
       "\n",
       "   blue-collar  ...  unknown  cellular  telephone  unknown  jul, 2017  \\\n",
       "0            0  ...        0         0          0        1          0   \n",
       "1            0  ...        0         0          0        1          0   \n",
       "2            0  ...        0         0          0        1          0   \n",
       "3            1  ...        1         0          0        1          0   \n",
       "4            0  ...        1         0          0        1          0   \n",
       "\n",
       "   jun, 2017  may, 2017  housing_new  loan_new  response_new  \n",
       "0          0          1            1         0             0  \n",
       "1          0          1            1         0             0  \n",
       "2          0          1            1         1             0  \n",
       "3          0          1            1         0             0  \n",
       "4          0          1            0         0             0  \n",
       "\n",
       "[5 rows x 33 columns]"
      ]
     },
     "execution_count": 40,
     "metadata": {},
     "output_type": "execute_result"
    }
   ],
   "source": [
    "df3.head()"
   ]
  },
  {
   "cell_type": "code",
   "execution_count": 41,
   "id": "5648d741",
   "metadata": {},
   "outputs": [
    {
     "data": {
      "text/plain": [
       "Index(['age', 'salary', 'balance', 'day', 'duration', 'divorced', 'married',\n",
       "       'single', 'admin.', 'blue-collar', 'entrepreneur', 'housemaid',\n",
       "       'management', 'retired', 'self-employed', 'services', 'student',\n",
       "       'technician', 'unemployed', 'unknown', 'primary', 'secondary',\n",
       "       'tertiary', 'unknown', 'cellular', 'telephone', 'unknown', 'jul, 2017',\n",
       "       'jun, 2017', 'may, 2017', 'housing_new', 'loan_new', 'response_new'],\n",
       "      dtype='object')"
      ]
     },
     "execution_count": 41,
     "metadata": {},
     "output_type": "execute_result"
    }
   ],
   "source": [
    "df3.columns"
   ]
  },
  {
   "cell_type": "code",
   "execution_count": 42,
   "id": "bf996fc6",
   "metadata": {},
   "outputs": [],
   "source": [
    "X=df3.drop(['response_new'],axis=1)\n",
    "y=df3['response_new']"
   ]
  },
  {
   "cell_type": "code",
   "execution_count": 43,
   "id": "dba7fc00",
   "metadata": {},
   "outputs": [
    {
     "data": {
      "text/plain": [
       "16383"
      ]
     },
     "execution_count": 43,
     "metadata": {},
     "output_type": "execute_result"
    }
   ],
   "source": [
    "len(y)"
   ]
  },
  {
   "cell_type": "code",
   "execution_count": 44,
   "id": "55d7ed9a",
   "metadata": {},
   "outputs": [
    {
     "name": "stdout",
     "output_type": "stream",
     "text": [
      "Requirement already satisfied: imbalanced-learn in c:\\users\\govin\\anaconda3\\lib\\site-packages (0.8.1)\n",
      "Requirement already satisfied: numpy>=1.13.3 in c:\\users\\govin\\anaconda3\\lib\\site-packages (from imbalanced-learn) (1.20.1)\n",
      "Requirement already satisfied: scikit-learn>=0.24 in c:\\users\\govin\\anaconda3\\lib\\site-packages (from imbalanced-learn) (0.24.1)\n",
      "Requirement already satisfied: joblib>=0.11 in c:\\users\\govin\\anaconda3\\lib\\site-packages (from imbalanced-learn) (1.0.1)\n",
      "Requirement already satisfied: scipy>=0.19.1 in c:\\users\\govin\\anaconda3\\lib\\site-packages (from imbalanced-learn) (1.6.2)\n",
      "Requirement already satisfied: threadpoolctl>=2.0.0 in c:\\users\\govin\\anaconda3\\lib\\site-packages (from scikit-learn>=0.24->imbalanced-learn) (2.1.0)\n"
     ]
    }
   ],
   "source": [
    "!pip install imbalanced-learn"
   ]
  },
  {
   "cell_type": "code",
   "execution_count": 45,
   "id": "653be68c",
   "metadata": {},
   "outputs": [
    {
     "name": "stderr",
     "output_type": "stream",
     "text": [
      "C:\\Users\\govin\\anaconda3\\lib\\site-packages\\imblearn\\utils\\_validation.py:587: FutureWarning: Pass sampling_strategy=0.9 as keyword args. From version 0.9 passing these as positional arguments will result in an error\n",
      "  warnings.warn(\n"
     ]
    }
   ],
   "source": [
    "from imblearn.over_sampling import RandomOverSampler\n",
    "oversample=RandomOverSampler(0.90)"
   ]
  },
  {
   "cell_type": "code",
   "execution_count": 46,
   "id": "089dbc22",
   "metadata": {},
   "outputs": [],
   "source": [
    "X_rs,y_rs=oversample.fit_resample(X.to_numpy(),y.to_numpy())"
   ]
  },
  {
   "cell_type": "code",
   "execution_count": 47,
   "id": "30dd7787",
   "metadata": {},
   "outputs": [
    {
     "data": {
      "text/plain": [
       "((16383, 32), (16383,), (29782, 32), (29782,))"
      ]
     },
     "execution_count": 47,
     "metadata": {},
     "output_type": "execute_result"
    }
   ],
   "source": [
    "X.shape,y.shape,X_rs.shape,y_rs.shape"
   ]
  },
  {
   "cell_type": "code",
   "execution_count": 48,
   "id": "311c6dd5",
   "metadata": {},
   "outputs": [
    {
     "data": {
      "text/plain": [
       "Index(['age', 'salary', 'balance', 'day', 'duration', 'divorced', 'married',\n",
       "       'single', 'admin.', 'blue-collar', 'entrepreneur', 'housemaid',\n",
       "       'management', 'retired', 'self-employed', 'services', 'student',\n",
       "       'technician', 'unemployed', 'unknown', 'primary', 'secondary',\n",
       "       'tertiary', 'unknown', 'cellular', 'telephone', 'unknown', 'jul, 2017',\n",
       "       'jun, 2017', 'may, 2017', 'housing_new', 'loan_new'],\n",
       "      dtype='object')"
      ]
     },
     "execution_count": 48,
     "metadata": {},
     "output_type": "execute_result"
    }
   ],
   "source": [
    "X.columns"
   ]
  },
  {
   "cell_type": "code",
   "execution_count": 49,
   "id": "d1fde356",
   "metadata": {},
   "outputs": [
    {
     "data": {
      "text/plain": [
       "0    0\n",
       "1    0\n",
       "2    0\n",
       "3    0\n",
       "4    0\n",
       "Name: response_new, dtype: int64"
      ]
     },
     "execution_count": 49,
     "metadata": {},
     "output_type": "execute_result"
    }
   ],
   "source": [
    "y.head()"
   ]
  },
  {
   "cell_type": "code",
   "execution_count": 50,
   "id": "56430225",
   "metadata": {},
   "outputs": [],
   "source": [
    "\n",
    "X_rsdf=pd.DataFrame(X_rs,columns=['age', 'salary', 'balance', 'day', 'duration', 'divorced', 'married',\n",
    "       'single', 'admin.', 'blue-collar', 'entrepreneur', 'housemaid',\n",
    "       'management', 'retired', 'self-employed', 'services', 'student',\n",
    "       'technician', 'unemployed', 'unknown', 'primary', 'secondary',\n",
    "       'tertiary', 'unknown', 'cellular', 'telephone', 'unknown', 'jul, 2017',\n",
    "       'jun, 2017', 'may, 2017', 'housing_new', 'loan_new'])"
   ]
  },
  {
   "cell_type": "code",
   "execution_count": 51,
   "id": "c34bb01d",
   "metadata": {},
   "outputs": [],
   "source": [
    "y_rsdf=pd.DataFrame(y_rs,columns=['response'])"
   ]
  },
  {
   "cell_type": "code",
   "execution_count": 52,
   "id": "31507907",
   "metadata": {},
   "outputs": [
    {
     "data": {
      "text/plain": [
       "<seaborn.axisgrid.FacetGrid at 0x298aaa2fb20>"
      ]
     },
     "execution_count": 52,
     "metadata": {},
     "output_type": "execute_result"
    },
    {
     "data": {
      "image/png": "[encoded data removed]",
      "text/plain": [
       "<Figure size 360x360 with 1 Axes>"
      ]
     },
     "metadata": {
      "needs_background": "light"
     },
     "output_type": "display_data"
    }
   ],
   "source": [
    "sns.catplot(x='response',kind='count',data=y_rsdf)"
   ]
  },
  {
   "cell_type": "code",
   "execution_count": 53,
   "id": "2ab8400a",
   "metadata": {},
   "outputs": [
    {
     "data": {
      "text/plain": [
       "response\n",
       "0    15675\n",
       "1    14107\n",
       "Name: response, dtype: int64"
      ]
     },
     "execution_count": 53,
     "metadata": {},
     "output_type": "execute_result"
    }
   ],
   "source": [
    "y_rsdf['response'].groupby(y_rsdf['response']).count()"
   ]
  },
  {
   "cell_type": "code",
   "execution_count": 54,
   "id": "87de654f",
   "metadata": {},
   "outputs": [],
   "source": [
    "from sklearn.model_selection import train_test_split\n",
    "Xtrain,Xtest,ytrain,ytest=train_test_split(X_rsdf,y_rsdf,train_size=0.7)"
   ]
  },
  {
   "cell_type": "code",
   "execution_count": 55,
   "id": "e42f731a",
   "metadata": {},
   "outputs": [
    {
     "data": {
      "text/plain": [
       "((20847, 32), (8935, 32), (20847, 1), (8935, 1))"
      ]
     },
     "execution_count": 55,
     "metadata": {},
     "output_type": "execute_result"
    }
   ],
   "source": [
    "Xtrain.shape,Xtest.shape,ytrain.shape,ytest.shape"
   ]
  },
  {
   "cell_type": "code",
   "execution_count": 56,
   "id": "2ade9e86",
   "metadata": {},
   "outputs": [],
   "source": [
    "from sklearn.linear_model import LogisticRegression"
   ]
  },
  {
   "cell_type": "code",
   "execution_count": 57,
   "id": "020df100",
   "metadata": {},
   "outputs": [
    {
     "data": {
      "text/plain": [
       "LogisticRegression(max_iter=1000)"
      ]
     },
     "execution_count": 57,
     "metadata": {},
     "output_type": "execute_result"
    }
   ],
   "source": [
    "logR=LogisticRegression(solver='lbfgs', max_iter=1000).fit(Xtrain,np.ravel(ytrain,order=\"c\"))\n",
    "logR"
   ]
  },
  {
   "cell_type": "code",
   "execution_count": 58,
   "id": "18f89302",
   "metadata": {},
   "outputs": [
    {
     "data": {
      "text/plain": [
       "array([[0.44965937, 0.55034063],\n",
       "       [0.94999537, 0.05000463],\n",
       "       [0.96783257, 0.03216743],\n",
       "       ...,\n",
       "       [0.74916441, 0.25083559],\n",
       "       [0.03109592, 0.96890408],\n",
       "       [0.91511883, 0.08488117]])"
      ]
     },
     "execution_count": 58,
     "metadata": {},
     "output_type": "execute_result"
    }
   ],
   "source": [
    "logR.predict_proba(Xtest)"
   ]
  },
  {
   "cell_type": "code",
   "execution_count": 59,
   "id": "b4e63b37",
   "metadata": {},
   "outputs": [
    {
     "name": "stdout",
     "output_type": "stream",
     "text": [
      "[-0.07320108]\n"
     ]
    }
   ],
   "source": [
    "print(logR.intercept_)"
   ]
  },
  {
   "cell_type": "code",
   "execution_count": 60,
   "id": "042f16cd",
   "metadata": {},
   "outputs": [
    {
     "name": "stdout",
     "output_type": "stream",
     "text": [
      "[[-4.80854160e-02 -3.43277430e-06 -4.36542851e-05  2.92359669e-02\n",
      "   6.58161946e-03  2.05323316e-01 -2.07127657e-01 -7.13959573e-02\n",
      "  -1.51103437e-02 -6.00581030e-02  3.22769869e-02  7.41106209e-03\n",
      "   1.78476562e-02  1.15896305e-02 -2.18579920e-02 -2.02308833e-02\n",
      "   6.73510910e-03 -3.00440892e-02  5.75184858e-03 -7.51118057e-03\n",
      "  -4.17641658e-02 -6.02253136e-02  1.80183849e-02  1.07707960e-02\n",
      "   8.40423132e-01  3.97602174e-02 -9.53383648e-01  8.57639877e-01\n",
      "  -1.52349883e-01 -7.78490293e-01 -1.78059469e-01  2.23667522e-02]]\n"
     ]
    }
   ],
   "source": [
    "print(logR.coef_)"
   ]
  },
  {
   "cell_type": "code",
   "execution_count": 61,
   "id": "a2f4f979",
   "metadata": {},
   "outputs": [
    {
     "data": {
      "text/plain": [
       "pandas.core.frame.DataFrame"
      ]
     },
     "execution_count": 61,
     "metadata": {},
     "output_type": "execute_result"
    }
   ],
   "source": [
    "pred=logR.predict(Xtest)\n",
    "pred2=pd.DataFrame(pred,columns=['predicted'])\n",
    "type(pred2)"
   ]
  },
  {
   "cell_type": "code",
   "execution_count": 62,
   "id": "7b0b57a4",
   "metadata": {},
   "outputs": [
    {
     "data": {
      "text/plain": [
       "pandas.core.frame.DataFrame"
      ]
     },
     "execution_count": 62,
     "metadata": {},
     "output_type": "execute_result"
    }
   ],
   "source": [
    "# df_res=pd.concat([ytest,pred2],axis=0)\n",
    "# df_res\n",
    "type(ytest)"
   ]
  },
  {
   "cell_type": "code",
   "execution_count": 63,
   "id": "fc08ee34",
   "metadata": {},
   "outputs": [
    {
     "data": {
      "text/html": [
       "<div>\n",
       "<style scoped>\n",
       "    .dataframe tbody tr th:only-of-type {\n",
       "        vertical-align: middle;\n",
       "    }\n",
       "\n",
       "    .dataframe tbody tr th {\n",
       "        vertical-align: top;\n",
       "    }\n",
       "\n",
       "    .dataframe thead th {\n",
       "        text-align: right;\n",
       "    }\n",
       "</style>\n",
       "<table border=\"1\" class=\"dataframe\">\n",
       "  <thead>\n",
       "    <tr style=\"text-align: right;\">\n",
       "      <th></th>\n",
       "      <th>index</th>\n",
       "      <th>response</th>\n",
       "    </tr>\n",
       "  </thead>\n",
       "  <tbody>\n",
       "    <tr>\n",
       "      <th>0</th>\n",
       "      <td>13133</td>\n",
       "      <td>0</td>\n",
       "    </tr>\n",
       "    <tr>\n",
       "      <th>1</th>\n",
       "      <td>2124</td>\n",
       "      <td>0</td>\n",
       "    </tr>\n",
       "    <tr>\n",
       "      <th>2</th>\n",
       "      <td>5206</td>\n",
       "      <td>0</td>\n",
       "    </tr>\n",
       "    <tr>\n",
       "      <th>3</th>\n",
       "      <td>24138</td>\n",
       "      <td>1</td>\n",
       "    </tr>\n",
       "    <tr>\n",
       "      <th>4</th>\n",
       "      <td>10050</td>\n",
       "      <td>0</td>\n",
       "    </tr>\n",
       "    <tr>\n",
       "      <th>...</th>\n",
       "      <td>...</td>\n",
       "      <td>...</td>\n",
       "    </tr>\n",
       "    <tr>\n",
       "      <th>8930</th>\n",
       "      <td>561</td>\n",
       "      <td>0</td>\n",
       "    </tr>\n",
       "    <tr>\n",
       "      <th>8931</th>\n",
       "      <td>7101</td>\n",
       "      <td>0</td>\n",
       "    </tr>\n",
       "    <tr>\n",
       "      <th>8932</th>\n",
       "      <td>6901</td>\n",
       "      <td>0</td>\n",
       "    </tr>\n",
       "    <tr>\n",
       "      <th>8933</th>\n",
       "      <td>16556</td>\n",
       "      <td>1</td>\n",
       "    </tr>\n",
       "    <tr>\n",
       "      <th>8934</th>\n",
       "      <td>6158</td>\n",
       "      <td>0</td>\n",
       "    </tr>\n",
       "  </tbody>\n",
       "</table>\n",
       "<p>8935 rows × 2 columns</p>\n",
       "</div>"
      ],
      "text/plain": [
       "      index  response\n",
       "0     13133         0\n",
       "1      2124         0\n",
       "2      5206         0\n",
       "3     24138         1\n",
       "4     10050         0\n",
       "...     ...       ...\n",
       "8930    561         0\n",
       "8931   7101         0\n",
       "8932   6901         0\n",
       "8933  16556         1\n",
       "8934   6158         0\n",
       "\n",
       "[8935 rows x 2 columns]"
      ]
     },
     "execution_count": 63,
     "metadata": {},
     "output_type": "execute_result"
    }
   ],
   "source": [
    "ytest2=ytest.reset_index()\n",
    "ytest2"
   ]
  },
  {
   "cell_type": "code",
   "execution_count": 64,
   "id": "7ba48851",
   "metadata": {},
   "outputs": [],
   "source": [
    "ytest2.drop('index', axis=1, inplace=True)"
   ]
  },
  {
   "cell_type": "code",
   "execution_count": 65,
   "id": "98048adc",
   "metadata": {},
   "outputs": [
    {
     "data": {
      "text/html": [
       "<div>\n",
       "<style scoped>\n",
       "    .dataframe tbody tr th:only-of-type {\n",
       "        vertical-align: middle;\n",
       "    }\n",
       "\n",
       "    .dataframe tbody tr th {\n",
       "        vertical-align: top;\n",
       "    }\n",
       "\n",
       "    .dataframe thead th {\n",
       "        text-align: right;\n",
       "    }\n",
       "</style>\n",
       "<table border=\"1\" class=\"dataframe\">\n",
       "  <thead>\n",
       "    <tr style=\"text-align: right;\">\n",
       "      <th></th>\n",
       "      <th>response</th>\n",
       "    </tr>\n",
       "  </thead>\n",
       "  <tbody>\n",
       "    <tr>\n",
       "      <th>0</th>\n",
       "      <td>0</td>\n",
       "    </tr>\n",
       "    <tr>\n",
       "      <th>1</th>\n",
       "      <td>0</td>\n",
       "    </tr>\n",
       "    <tr>\n",
       "      <th>2</th>\n",
       "      <td>0</td>\n",
       "    </tr>\n",
       "    <tr>\n",
       "      <th>3</th>\n",
       "      <td>1</td>\n",
       "    </tr>\n",
       "    <tr>\n",
       "      <th>4</th>\n",
       "      <td>0</td>\n",
       "    </tr>\n",
       "    <tr>\n",
       "      <th>...</th>\n",
       "      <td>...</td>\n",
       "    </tr>\n",
       "    <tr>\n",
       "      <th>8930</th>\n",
       "      <td>0</td>\n",
       "    </tr>\n",
       "    <tr>\n",
       "      <th>8931</th>\n",
       "      <td>0</td>\n",
       "    </tr>\n",
       "    <tr>\n",
       "      <th>8932</th>\n",
       "      <td>0</td>\n",
       "    </tr>\n",
       "    <tr>\n",
       "      <th>8933</th>\n",
       "      <td>1</td>\n",
       "    </tr>\n",
       "    <tr>\n",
       "      <th>8934</th>\n",
       "      <td>0</td>\n",
       "    </tr>\n",
       "  </tbody>\n",
       "</table>\n",
       "<p>8935 rows × 1 columns</p>\n",
       "</div>"
      ],
      "text/plain": [
       "      response\n",
       "0            0\n",
       "1            0\n",
       "2            0\n",
       "3            1\n",
       "4            0\n",
       "...        ...\n",
       "8930         0\n",
       "8931         0\n",
       "8932         0\n",
       "8933         1\n",
       "8934         0\n",
       "\n",
       "[8935 rows x 1 columns]"
      ]
     },
     "execution_count": 65,
     "metadata": {},
     "output_type": "execute_result"
    }
   ],
   "source": [
    "ytest2"
   ]
  },
  {
   "cell_type": "code",
   "execution_count": 66,
   "id": "8bf48052",
   "metadata": {},
   "outputs": [
    {
     "data": {
      "text/html": [
       "<div>\n",
       "<style scoped>\n",
       "    .dataframe tbody tr th:only-of-type {\n",
       "        vertical-align: middle;\n",
       "    }\n",
       "\n",
       "    .dataframe tbody tr th {\n",
       "        vertical-align: top;\n",
       "    }\n",
       "\n",
       "    .dataframe thead th {\n",
       "        text-align: right;\n",
       "    }\n",
       "</style>\n",
       "<table border=\"1\" class=\"dataframe\">\n",
       "  <thead>\n",
       "    <tr style=\"text-align: right;\">\n",
       "      <th></th>\n",
       "      <th>response</th>\n",
       "      <th>predicted</th>\n",
       "    </tr>\n",
       "  </thead>\n",
       "  <tbody>\n",
       "    <tr>\n",
       "      <th>0</th>\n",
       "      <td>0</td>\n",
       "      <td>1</td>\n",
       "    </tr>\n",
       "    <tr>\n",
       "      <th>1</th>\n",
       "      <td>0</td>\n",
       "      <td>0</td>\n",
       "    </tr>\n",
       "    <tr>\n",
       "      <th>2</th>\n",
       "      <td>0</td>\n",
       "      <td>0</td>\n",
       "    </tr>\n",
       "    <tr>\n",
       "      <th>3</th>\n",
       "      <td>1</td>\n",
       "      <td>1</td>\n",
       "    </tr>\n",
       "    <tr>\n",
       "      <th>4</th>\n",
       "      <td>0</td>\n",
       "      <td>0</td>\n",
       "    </tr>\n",
       "    <tr>\n",
       "      <th>...</th>\n",
       "      <td>...</td>\n",
       "      <td>...</td>\n",
       "    </tr>\n",
       "    <tr>\n",
       "      <th>8930</th>\n",
       "      <td>0</td>\n",
       "      <td>0</td>\n",
       "    </tr>\n",
       "    <tr>\n",
       "      <th>8931</th>\n",
       "      <td>0</td>\n",
       "      <td>0</td>\n",
       "    </tr>\n",
       "    <tr>\n",
       "      <th>8932</th>\n",
       "      <td>0</td>\n",
       "      <td>0</td>\n",
       "    </tr>\n",
       "    <tr>\n",
       "      <th>8933</th>\n",
       "      <td>1</td>\n",
       "      <td>1</td>\n",
       "    </tr>\n",
       "    <tr>\n",
       "      <th>8934</th>\n",
       "      <td>0</td>\n",
       "      <td>0</td>\n",
       "    </tr>\n",
       "  </tbody>\n",
       "</table>\n",
       "<p>8935 rows × 2 columns</p>\n",
       "</div>"
      ],
      "text/plain": [
       "      response  predicted\n",
       "0            0          1\n",
       "1            0          0\n",
       "2            0          0\n",
       "3            1          1\n",
       "4            0          0\n",
       "...        ...        ...\n",
       "8930         0          0\n",
       "8931         0          0\n",
       "8932         0          0\n",
       "8933         1          1\n",
       "8934         0          0\n",
       "\n",
       "[8935 rows x 2 columns]"
      ]
     },
     "execution_count": 66,
     "metadata": {},
     "output_type": "execute_result"
    }
   ],
   "source": [
    "df_res=pd.concat([ytest2,pred2],axis=1)\n",
    "df_res"
   ]
  },
  {
   "cell_type": "code",
   "execution_count": 67,
   "id": "05863011",
   "metadata": {},
   "outputs": [
    {
     "data": {
      "text/html": [
       "<div>\n",
       "<style scoped>\n",
       "    .dataframe tbody tr th:only-of-type {\n",
       "        vertical-align: middle;\n",
       "    }\n",
       "\n",
       "    .dataframe tbody tr th {\n",
       "        vertical-align: top;\n",
       "    }\n",
       "\n",
       "    .dataframe thead th {\n",
       "        text-align: right;\n",
       "    }\n",
       "</style>\n",
       "<table border=\"1\" class=\"dataframe\">\n",
       "  <thead>\n",
       "    <tr style=\"text-align: right;\">\n",
       "      <th>predicted</th>\n",
       "      <th>0</th>\n",
       "      <th>1</th>\n",
       "    </tr>\n",
       "    <tr>\n",
       "      <th>response</th>\n",
       "      <th></th>\n",
       "      <th></th>\n",
       "    </tr>\n",
       "  </thead>\n",
       "  <tbody>\n",
       "    <tr>\n",
       "      <th>0</th>\n",
       "      <td>3947</td>\n",
       "      <td>754</td>\n",
       "    </tr>\n",
       "    <tr>\n",
       "      <th>1</th>\n",
       "      <td>824</td>\n",
       "      <td>3410</td>\n",
       "    </tr>\n",
       "  </tbody>\n",
       "</table>\n",
       "</div>"
      ],
      "text/plain": [
       "predicted     0     1\n",
       "response             \n",
       "0          3947   754\n",
       "1           824  3410"
      ]
     },
     "execution_count": 67,
     "metadata": {},
     "output_type": "execute_result"
    }
   ],
   "source": [
    "ct=pd.crosstab(df_res['response'],df_res['predicted'])\n",
    "ct"
   ]
  },
  {
   "cell_type": "code",
   "execution_count": 68,
   "id": "34a781b7",
   "metadata": {},
   "outputs": [],
   "source": [
    "from sklearn.metrics import accuracy_score,f1_score,precision_score,recall_score,roc_auc_score\n",
    "from sklearn import metrics as sm "
   ]
  },
  {
   "cell_type": "code",
   "execution_count": 69,
   "id": "5cbb80c1",
   "metadata": {},
   "outputs": [],
   "source": [
    "accuracy=sm.accuracy_score(ytest2,pred2)\n",
    "f1=f1_score(ytest2,pred2)\n",
    "precision=precision_score(ytest2,pred2)\n",
    "recall=recall_score(ytest2,pred2)\n",
    "roc_auc=roc_auc_score(ytest2,pred2)"
   ]
  },
  {
   "cell_type": "code",
   "execution_count": 70,
   "id": "5adf3fe8",
   "metadata": {},
   "outputs": [
    {
     "name": "stdout",
     "output_type": "stream",
     "text": [
      "Accuracy is:  0.8233911583659765\n",
      "F1 Score is:  0.8120981185996666\n",
      "Precision is:  0.818924111431316\n",
      "Recall is:  0.805384978743505\n",
      "Roc Auc is:  0.8224967863298465\n"
     ]
    }
   ],
   "source": [
    "print('Accuracy is: ' ,accuracy)\n",
    "print('F1 Score is: ' ,f1)\n",
    "print('Precision is: ',precision)\n",
    "print('Recall is: '   ,recall)\n",
    "print('Roc Auc is: '  ,roc_auc)"
   ]
  },
  {
   "cell_type": "markdown",
   "id": "2e34c851",
   "metadata": {},
   "source": [
    "# KNN"
   ]
  },
  {
   "cell_type": "code",
   "execution_count": 71,
   "id": "e22a503a",
   "metadata": {},
   "outputs": [],
   "source": [
    "from sklearn.neighbors import KNeighborsClassifier\n",
    "from sklearn import metrics\n",
    "\n",
    "k_range = range(1,40)\n",
    "scores={}\n",
    "scores_list=[]\n",
    "for k in k_range:\n",
    "    knn=KNeighborsClassifier(n_neighbors=k)\n",
    "    knn.fit(Xtrain,np.ravel(ytrain,order=\"c\"))\n",
    "    _pred=knn.predict(Xtest)\n",
    "    scores[k]=metrics.accuracy_score(ytest,_pred)\n",
    "    scores_list.append(metrics.accuracy_score(ytest,_pred))"
   ]
  },
  {
   "cell_type": "code",
   "execution_count": 72,
   "id": "6bf1ba0b",
   "metadata": {},
   "outputs": [
    {
     "data": {
      "text/plain": [
       "{1: 0.9782876329043089,\n",
       " 2: 0.9782876329043089,\n",
       " 3: 0.9650811415780638,\n",
       " 4: 0.9650811415780638,\n",
       " 5: 0.9528819250139899,\n",
       " 6: 0.9526580861779519,\n",
       " 7: 0.9442641298265249,\n",
       " 8: 0.9442641298265249,\n",
       " 9: 0.9348628987129267,\n",
       " 10: 0.9336317851147174,\n",
       " 11: 0.9243424734191382,\n",
       " 12: 0.9236709569110241,\n",
       " 13: 0.9162842753217684,\n",
       " 14: 0.9161723559037493,\n",
       " 15: 0.9094571908226077,\n",
       " 16: 0.906323447118075,\n",
       " 17: 0.9013989927252378,\n",
       " 18: 0.9010632344711808,\n",
       " 19: 0.8960268606603246,\n",
       " 20: 0.8953553441522104,\n",
       " 21: 0.8898712926692781,\n",
       " 22: 0.8872971460548406,\n",
       " 23: 0.8831561275881366,\n",
       " 24: 0.8839395635142697,\n",
       " 25: 0.8787912702853945,\n",
       " 26: 0.8784555120313374,\n",
       " 27: 0.8770005595970901,\n",
       " 28: 0.8744264129826524,\n",
       " 29: 0.8720761052042529,\n",
       " 30: 0.8710688304420817,\n",
       " 31: 0.868158925573587,\n",
       " 32: 0.8707330721880246,\n",
       " 33: 0.8709569110240627,\n",
       " 34: 0.8709569110240627,\n",
       " 35: 0.8701734750979295,\n",
       " 36: 0.8699496362618915,\n",
       " 37: 0.8688304420817011,\n",
       " 38: 0.8701734750979295,\n",
       " 39: 0.868494683827644}"
      ]
     },
     "execution_count": 72,
     "metadata": {},
     "output_type": "execute_result"
    }
   ],
   "source": [
    "scores"
   ]
  },
  {
   "cell_type": "code",
   "execution_count": 74,
   "id": "c306555d",
   "metadata": {},
   "outputs": [
    {
     "data": {
      "text/plain": [
       "Text(0, 0.5, 'Testing Accuracy')"
      ]
     },
     "execution_count": 74,
     "metadata": {},
     "output_type": "execute_result"
    },
    {
     "data": {
      "image/png": "[encoded data removed]",
      "text/plain": [
       "<Figure size 432x288 with 1 Axes>"
      ]
     },
     "metadata": {
      "needs_background": "light"
     },
     "output_type": "display_data"
    }
   ],
   "source": [
    "plt.plot(k_range,scores_list)\n",
    "plt.xlabel('Value of K for KNN')\n",
    "plt.ylabel('Testing Accuracy')"
   ]
  },
  {
   "cell_type": "code",
   "execution_count": null,
   "id": "0ce3481e",
   "metadata": {},
   "outputs": [],
   "source": []
  }
 ],
 "metadata": {
  "kernelspec": {
   "display_name": "Python 3",
   "language": "python",
   "name": "python3"
  },
  "language_info": {
   "codemirror_mode": {
    "name": "ipython",
    "version": 3
   },
   "file_extension": ".py",
   "mimetype": "text/x-python",
   "name": "python",
   "nbconvert_exporter": "python",
   "pygments_lexer": "ipython3",
   "version": "3.8.8"
  }
 },
 "nbformat": 4,
 "nbformat_minor": 5
}
